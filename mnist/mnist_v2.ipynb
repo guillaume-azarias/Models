{
 "metadata": {
  "language_info": {
   "codemirror_mode": {
    "name": "ipython",
    "version": 3
   },
   "file_extension": ".py",
   "mimetype": "text/x-python",
   "name": "python",
   "nbconvert_exporter": "python",
   "pygments_lexer": "ipython3",
   "version": "3.7.4-final"
  },
  "orig_nbformat": 2,
  "kernelspec": {
   "name": "python3",
   "display_name": "Python 3"
  }
 },
 "nbformat": 4,
 "nbformat_minor": 2,
 "cells": [
  {
   "source": [
    "# https://omegaml.github.io/omegaml/guide/getstarted.html#starting-omega-ml-locally\n",
    "\n",
    "# !wget https://raw.githubusercontent.com/omegaml/omegaml/master/docker-compose.yml\n",
    "# !docker-compose up -d"
   ],
   "cell_type": "code",
   "metadata": {},
   "execution_count": null,
   "outputs": []
  },
  {
   "cell_type": "code",
   "execution_count": 1,
   "metadata": {},
   "outputs": [],
   "source": [
    "import omegaml as om"
   ]
  },
  {
   "cell_type": "code",
   "execution_count": 2,
   "metadata": {},
   "outputs": [
    {
     "output_type": "execute_result",
     "data": {
      "text/plain": [
       "['classifier_50000', 'classifier_om', 'classifier_skl']"
      ]
     },
     "metadata": {},
     "execution_count": 2
    }
   ],
   "source": [
    "om.models.list()"
   ]
  },
  {
   "cell_type": "code",
   "execution_count": 3,
   "metadata": {},
   "outputs": [
    {
     "output_type": "execute_result",
     "data": {
      "text/plain": [
       "['flatten_digits',\n",
       " 'flatten_image',\n",
       " 'flatten_test',\n",
       " 'np_input',\n",
       " 'stream-classifier_om',\n",
       " 'stream-classifier_skl',\n",
       " 'targets',\n",
       " 'train_images']"
      ]
     },
     "metadata": {},
     "execution_count": 3
    }
   ],
   "source": [
    "om.datasets.list()"
   ]
  },
  {
   "cell_type": "code",
   "execution_count": 134,
   "metadata": {},
   "outputs": [],
   "source": [
    "import matplotlib.pyplot as plt\n",
    "\n",
    "# Import the mnist dataset\n",
    "# https://github.com/datapythonista/mnist\n",
    "import mnist\n",
    "\n",
    "# Import classifiers and performance metrics\n",
    "from sklearn import svm, metrics\n",
    "from sklearn.model_selection import train_test_split\n",
    "import random"
   ]
  },
  {
   "source": [
    "## Load the data"
   ],
   "cell_type": "markdown",
   "metadata": {}
  },
  {
   "cell_type": "code",
   "execution_count": 14,
   "metadata": {},
   "outputs": [
    {
     "output_type": "execute_result",
     "data": {
      "text/plain": [
       "(60000, 28, 28)"
      ]
     },
     "metadata": {},
     "execution_count": 14
    }
   ],
   "source": [
    "# The mnist dataset originally 28x18\n",
    "images = mnist.train_images()\n",
    "images.shape"
   ]
  },
  {
   "cell_type": "code",
   "execution_count": null,
   "metadata": {},
   "outputs": [],
   "source": [
    "_, axes = plt.subplots(2, 6)\n",
    "images_and_labels = list(zip(mnist.train_images(), mnist.train_labels()))\n",
    "for ax, (image, label) in zip(axes[0, :], images_and_labels[:6]):\n",
    "    ax.set_axis_off()\n",
    "    ax.imshow(image, cmap=plt.cm.gray_r, interpolation='nearest')\n",
    "    ax.set_title('Training: %i' % label)"
   ]
  },
  {
   "cell_type": "code",
   "execution_count": null,
   "metadata": {},
   "outputs": [],
   "source": [
    "mnist.train_labels()[:6]"
   ]
  },
  {
   "cell_type": "code",
   "execution_count": 15,
   "metadata": {},
   "outputs": [
    {
     "output_type": "execute_result",
     "data": {
      "text/plain": [
       "(60000, 784)"
      ]
     },
     "metadata": {},
     "execution_count": 15
    }
   ],
   "source": [
    "# Flattening the images\n",
    "full_data = images.reshape((images.shape[0], -1))\n",
    "full_data.shape"
   ]
  },
  {
   "cell_type": "code",
   "execution_count": 16,
   "metadata": {},
   "outputs": [],
   "source": [
    "# I use only part of the dataset\n",
    "row_number = 50000"
   ]
  },
  {
   "cell_type": "code",
   "execution_count": 17,
   "metadata": {},
   "outputs": [],
   "source": [
    "assert row_number<= min(full_data.shape[0], mnist.train_labels().shape[0]), 'The number of rows wanted is greater than the size of the full dataset.'\n",
    "\n",
    "# data\n",
    "data = full_data[:row_number, :]\n",
    "data = data/255 # Normalising. https://aigeekprogrammer.com/keras-python-mnist-handwritten-digit-recognition/\n",
    "\n",
    "# train_labels\n",
    "full_train_labels = mnist.train_labels()\n",
    "train_labels = full_train_labels[:row_number]"
   ]
  },
  {
   "cell_type": "code",
   "execution_count": 18,
   "metadata": {},
   "outputs": [],
   "source": [
    "# Split data into train and test subsets\n",
    "X_train, X_test, y_train, y_test = train_test_split(\n",
    "    data, train_labels, test_size=0.2, shuffle=False)"
   ]
  },
  {
   "cell_type": "code",
   "execution_count": 20,
   "metadata": {},
   "outputs": [
    {
     "output_type": "execute_result",
     "data": {
      "text/plain": [
       "(10000, 784)"
      ]
     },
     "metadata": {},
     "execution_count": 20
    }
   ],
   "source": [
    "X_test.shape"
   ]
  },
  {
   "cell_type": "code",
   "execution_count": null,
   "metadata": {},
   "outputs": [],
   "source": [
    "om.datasets.put(X_train, 'flatten_digits')\n",
    "om.datasets.put(y_train, 'targets')"
   ]
  },
  {
   "cell_type": "code",
   "execution_count": null,
   "metadata": {},
   "outputs": [],
   "source": [
    "test_images = mnist.test_images()\n",
    "test_labels = mnist.test_labels()"
   ]
  },
  {
   "source": [
    "## Train a model"
   ],
   "cell_type": "markdown",
   "metadata": {}
  },
  {
   "cell_type": "code",
   "execution_count": 79,
   "metadata": {},
   "outputs": [],
   "source": [
    "# Create a classifier: a support vector classifier\n",
    "classifier_new = svm.SVC(gamma=0.001)"
   ]
  },
  {
   "cell_type": "code",
   "execution_count": 81,
   "metadata": {},
   "outputs": [
    {
     "output_type": "execute_result",
     "data": {
      "text/plain": [
       "SVC(C=1.0, cache_size=200, class_weight=None, coef0=0.0,\n",
       "    decision_function_shape='ovr', degree=3, gamma=0.001, kernel='rbf',\n",
       "    max_iter=-1, probability=False, random_state=None, shrinking=True,\n",
       "    tol=0.001, verbose=False)"
      ]
     },
     "metadata": {},
     "execution_count": 81
    }
   ],
   "source": [
    "classifier_new.fit(X_train, y_train)"
   ]
  },
  {
   "cell_type": "code",
   "execution_count": 82,
   "metadata": {},
   "outputs": [
    {
     "output_type": "execute_result",
     "data": {
      "text/plain": [
       "<Metadata: Metadata(name=classifier_new,bucket=omegaml,prefix=models/,kind=sklearn.joblib,created=2020-11-24 16:18:22.454000)>"
      ]
     },
     "metadata": {},
     "execution_count": 82
    }
   ],
   "source": [
    "# Publishing the model\n",
    "om.models.put(classifier_new, 'classifier_new')"
   ]
  },
  {
   "source": [
    "om.models.revisions('classifier_new')"
   ],
   "cell_type": "code",
   "metadata": {},
   "execution_count": 147,
   "outputs": [
    {
     "output_type": "execute_result",
     "data": {
      "text/plain": [
       "[('8b4c328d2a08520442de7aefe76bf157a70285d3', ''),\n",
       " ('a44fac815fc5da0ce5191d555771f5a342ce570a', ''),\n",
       " ('7aa465df04346205cac718e235a2e76c55bd1596', ''),\n",
       " ('8ac120a89d6e7cb1b50d3b3dece5384cd1de2563', ''),\n",
       " ('a02768f86e7432464cff507242e6c47f2b15f971', ''),\n",
       " ('1390e2f6de9dde791a62e12f148ae0961b44a08e', ''),\n",
       " ('a98ae7758e7092ab99489d7837c2bc84a0308665', ''),\n",
       " ('876c14c6aff8198719b80dccffe23f7b2991dcb5', ['latest'])]"
      ]
     },
     "metadata": {},
     "execution_count": 147
    }
   ]
  },
  {
   "cell_type": "code",
   "execution_count": null,
   "metadata": {},
   "outputs": [],
   "source": [
    "# Retrieving a model\n",
    "classifier_new_test = om.models.get('classifier_new')\n",
    "classifier_new_test"
   ]
  },
  {
   "source": [
    "## Testing on a single instance"
   ],
   "cell_type": "markdown",
   "metadata": {}
  },
  {
   "cell_type": "code",
   "execution_count": 43,
   "metadata": {},
   "outputs": [],
   "source": []
  },
  {
   "cell_type": "code",
   "execution_count": null,
   "metadata": {},
   "outputs": [],
   "source": [
    "full_test = test_images.reshape((test_images.shape[0], -1))\n",
    "full_test.shape"
   ]
  },
  {
   "cell_type": "code",
   "execution_count": 75,
   "metadata": {},
   "outputs": [
    {
     "output_type": "display_data",
     "data": {
      "text/plain": "<Figure size 432x288 with 12 Axes>",
      "image/svg+xml": "<?xml version=\"1.0\" encoding=\"utf-8\" standalone=\"no\"?>\n<!DOCTYPE svg PUBLIC \"-//W3C//DTD SVG 1.1//EN\"\n  \"http://www.w3.org/Graphics/SVG/1.1/DTD/svg11.dtd\">\n<!-- Created with matplotlib (https://matplotlib.org/) -->\n<svg height=\"238.132354pt\" version=\"1.1\" viewBox=\"0 0 381.646875 238.132354\" width=\"381.646875pt\" xmlns=\"http://www.w3.org/2000/svg\" xmlns:xlink=\"http://www.w3.org/1999/xlink\">\n <defs>\n  <style type=\"text/css\">\n*{stroke-linecap:butt;stroke-linejoin:round;}\n  </style>\n </defs>\n <g id=\"figure_1\">\n  <g id=\"patch_1\">\n   <path d=\"M 0 238.132354 \nL 381.646875 238.132354 \nL 381.646875 0 \nL 0 0 \nz\n\" style=\"fill:none;\"/>\n  </g>\n  <g id=\"axes_1\">\n   <g clip-path=\"url(#pf4d3ca02eb)\">\n    <image height=\"48\" id=\"image8e044deccc\" transform=\"scale(1 -1)translate(0 -48)\" width=\"48\" x=\"36.465625\" xlink:href=\"data:image/png;base64,\niVBORw0KGgoAAAANSUhEUgAAADAAAAAwCAYAAABXAvmHAAAABHNCSVQICAgIfAhkiAAAApBJREFUaIHt2M8rdH0cxvHXeboNEkkWUpQoEgshv/dmKVnIH6BkbSs2/gIreys2CBs/pllS2ChFfmSljAVlpfMsppnc3bfnGe4Z80zPvOssTp2uz7m6Pp/v95xvEIZhqID5K98v8KdkxcDS0pKlpSVBEAiCQFdXl0QiIZFIZEP+H/mRC9HT01N9fX1gc3MTtLW15aJU4bdQVhIYHh4GlZWV4Pn52eXlJXh5eclGiQ8pJgAjIyNgdnYWyaH+LooJvGd6ehqsrq66vb0FsVgMdHd3C4Igm+WShDng4uIixE/XxsZGLkqFBd9CQRhm/1vo7e1Nf38/OD4+Bi0tLXZ3d0Fzc3PWahUT+IjHx0fQ29sLrq+vTU5OIjnk2SJnBlJsbW2BsbExFRUVYGdnBwwMDPyxfsG3UE6W0d+xsLCQXlKj0WgYjUazolvwCeR8BlK8vr4aGhoC5+fnYH9/HwwODn5Zt+ATyMkf2e8oLy83OjoKTk5OwPz8PNje3lZSUvI14axMUobE4/EwHo+HkUgkjEQi6aGOxWJf1iz4Fvq2IX5PqnUWFxdBdXW1eDwOOjo6PqVVTOArPDw8gM7OzvT92toaGB8f/5RWXgykWF9fBxMTE2kzBwcHoKamJiONYgu95+npCcl1vqenBxwdHf3yXGlpKWhtbUXy1C51DLm8vAxmZmYyqlnwCWS8E+/t7YGzszPQ3t6e/qZJ7ayHh4fg/v5eY2MjuLu7+0UrtevW1tbCT4fAV1dXnzJQ8AlkPANNTU3g5ubmw2eqqqqQTOezNDQ0gLm5OUjP0L+RsYHUOr2ysgLq6+uVlZWBqakpUFdXh+QJxHfx/2mh/yoFn0DRQL4pGsg3RQP5pmgg3xQN5Ju/AWAC2ymXsiRNAAAAAElFTkSuQmCC\" y=\"-22.146696\"/>\n   </g>\n   <g id=\"text_1\">\n    <!-- Test: 7 -->\n    <defs>\n     <path d=\"M -0.296875 72.90625 \nL 61.375 72.90625 \nL 61.375 64.59375 \nL 35.5 64.59375 \nL 35.5 0 \nL 25.59375 0 \nL 25.59375 64.59375 \nL -0.296875 64.59375 \nz\n\" id=\"DejaVuSans-84\"/>\n     <path d=\"M 56.203125 29.59375 \nL 56.203125 25.203125 \nL 14.890625 25.203125 \nQ 15.484375 15.921875 20.484375 11.0625 \nQ 25.484375 6.203125 34.421875 6.203125 \nQ 39.59375 6.203125 44.453125 7.46875 \nQ 49.3125 8.734375 54.109375 11.28125 \nL 54.109375 2.78125 \nQ 49.265625 0.734375 44.1875 -0.34375 \nQ 39.109375 -1.421875 33.890625 -1.421875 \nQ 20.796875 -1.421875 13.15625 6.1875 \nQ 5.515625 13.8125 5.515625 26.8125 \nQ 5.515625 40.234375 12.765625 48.109375 \nQ 20.015625 56 32.328125 56 \nQ 43.359375 56 49.78125 48.890625 \nQ 56.203125 41.796875 56.203125 29.59375 \nz\nM 47.21875 32.234375 \nQ 47.125 39.59375 43.09375 43.984375 \nQ 39.0625 48.390625 32.421875 48.390625 \nQ 24.90625 48.390625 20.390625 44.140625 \nQ 15.875 39.890625 15.1875 32.171875 \nz\n\" id=\"DejaVuSans-101\"/>\n     <path d=\"M 44.28125 53.078125 \nL 44.28125 44.578125 \nQ 40.484375 46.53125 36.375 47.5 \nQ 32.28125 48.484375 27.875 48.484375 \nQ 21.1875 48.484375 17.84375 46.4375 \nQ 14.5 44.390625 14.5 40.28125 \nQ 14.5 37.15625 16.890625 35.375 \nQ 19.28125 33.59375 26.515625 31.984375 \nL 29.59375 31.296875 \nQ 39.15625 29.25 43.1875 25.515625 \nQ 47.21875 21.78125 47.21875 15.09375 \nQ 47.21875 7.46875 41.1875 3.015625 \nQ 35.15625 -1.421875 24.609375 -1.421875 \nQ 20.21875 -1.421875 15.453125 -0.5625 \nQ 10.6875 0.296875 5.421875 2 \nL 5.421875 11.28125 \nQ 10.40625 8.6875 15.234375 7.390625 \nQ 20.0625 6.109375 24.8125 6.109375 \nQ 31.15625 6.109375 34.5625 8.28125 \nQ 37.984375 10.453125 37.984375 14.40625 \nQ 37.984375 18.0625 35.515625 20.015625 \nQ 33.0625 21.96875 24.703125 23.78125 \nL 21.578125 24.515625 \nQ 13.234375 26.265625 9.515625 29.90625 \nQ 5.8125 33.546875 5.8125 39.890625 \nQ 5.8125 47.609375 11.28125 51.796875 \nQ 16.75 56 26.8125 56 \nQ 31.78125 56 36.171875 55.265625 \nQ 40.578125 54.546875 44.28125 53.078125 \nz\n\" id=\"DejaVuSans-115\"/>\n     <path d=\"M 18.3125 70.21875 \nL 18.3125 54.6875 \nL 36.8125 54.6875 \nL 36.8125 47.703125 \nL 18.3125 47.703125 \nL 18.3125 18.015625 \nQ 18.3125 11.328125 20.140625 9.421875 \nQ 21.96875 7.515625 27.59375 7.515625 \nL 36.8125 7.515625 \nL 36.8125 0 \nL 27.59375 0 \nQ 17.1875 0 13.234375 3.875 \nQ 9.28125 7.765625 9.28125 18.015625 \nL 9.28125 47.703125 \nL 2.6875 47.703125 \nL 2.6875 54.6875 \nL 9.28125 54.6875 \nL 9.28125 70.21875 \nz\n\" id=\"DejaVuSans-116\"/>\n     <path d=\"M 11.71875 12.40625 \nL 22.015625 12.40625 \nL 22.015625 0 \nL 11.71875 0 \nz\nM 11.71875 51.703125 \nL 22.015625 51.703125 \nL 22.015625 39.3125 \nL 11.71875 39.3125 \nz\n\" id=\"DejaVuSans-58\"/>\n     <path id=\"DejaVuSans-32\"/>\n     <path d=\"M 8.203125 72.90625 \nL 55.078125 72.90625 \nL 55.078125 68.703125 \nL 28.609375 0 \nL 18.3125 0 \nL 43.21875 64.59375 \nL 8.203125 64.59375 \nz\n\" id=\"DejaVuSans-55\"/>\n    </defs>\n    <g transform=\"translate(39.815848 16.318125)scale(0.12 -0.12)\">\n     <use xlink:href=\"#DejaVuSans-84\"/>\n     <use x=\"60.818359\" xlink:href=\"#DejaVuSans-101\"/>\n     <use x=\"122.341797\" xlink:href=\"#DejaVuSans-115\"/>\n     <use x=\"174.441406\" xlink:href=\"#DejaVuSans-116\"/>\n     <use x=\"213.650391\" xlink:href=\"#DejaVuSans-58\"/>\n     <use x=\"247.341797\" xlink:href=\"#DejaVuSans-32\"/>\n     <use x=\"279.128906\" xlink:href=\"#DejaVuSans-55\"/>\n    </g>\n   </g>\n  </g>\n  <g id=\"axes_2\">\n   <g clip-path=\"url(#p35b8541487)\">\n    <image height=\"48\" id=\"image3594c9f618\" transform=\"scale(1 -1)translate(0 -48)\" width=\"48\" x=\"93.859911\" xlink:href=\"data:image/png;base64,\niVBORw0KGgoAAAANSUhEUgAAADAAAAAwCAYAAABXAvmHAAAABHNCSVQICAgIfAhkiAAAAuVJREFUaIHtmL9LclEYxz9WokQR+AN0KaiGgsDFuBgubU1iBTU6OIVD2Rhi4FahDv0TiQ1ik5CDSxA09IugJWgIEYQIgjCF+w5yr4q+vq/3XpNLfuAu58c9z3O+zznPOccgiqKIjhkZtAFqGTowaIYODJqhA4NG9w6Mqel8fHwMwPf3d1vd09MTAGdnZ211wWAQgJmZGblsc3MTgMXFxZ5sMCjNxBsbG2QyGSVdO2I0GgEYGWkEhc/nA8Dtdre09Xq9eDyeenvNLBgQihUwm80dQ6cbW1tbADidTgBKpRLQOcy6EYvFiEQiwFCBVgXu7+8BcDgcHftMTU0BjXivVqsAfHx8yG3e398BSCaTbf1HR0cBODo6Ynx8XHsH3t7egEaI/AS6DyHFDuzv77eVhUIhQqEQn5+fqozqBd0rgKiQcrksCoIgCoIgGgyGli8cDiv9bc/oXgHFZyGr1crBwQHQSFDSrnR7eyuvg4mJCbU2dkXxNtqMdC65vr6Wy/b29gBIJBJqf98V3YeQJgoUi0UAXC4XAOVyGbvdDsDV1RUAc3NzaofpyFCBZvx+PwC5XI5KpQJAIBAA4PT0tD8Luh978+HhYVtu2N3d7cdQ+s8DfXHA7XZjMpkwmUxyWSqVolAoUCgUNB1L9wpouoibOTk5ASAajQJQqVQQBAGAfD4PIF9K1PB7FXh9fWVychIAi8Xy13ZScnt4eJDLJAVWV1eVDN1Cz4e5i4sLoP4uJD1C5XI5oPNVcnt7G4Dn5+eeXzH+h98XQjc3NwCsrKxQq9UAWFpaAiCbzQJgs9nkrCvNuiAI3N3dARAOhwGIx+Nq7de/Aj2vAemdcn19nXQ6DcDj4yMAs7OzACwsLLC2tgbAy8sLgDz7UL8MaYWqPCAtUMmRfzE/Pw/A5eUlANPT00qHlvl9IdRMKpUCYHl5GYCvry+g/sR4fn7e0nZnZ0e+emox8xK6V6BvZ6GfQvcKDB0YNLp34A+Z+Efycl6iyAAAAABJRU5ErkJggg==\" y=\"-22.146696\"/>\n   </g>\n   <g id=\"text_2\">\n    <!-- Test: 2 -->\n    <defs>\n     <path d=\"M 19.1875 8.296875 \nL 53.609375 8.296875 \nL 53.609375 0 \nL 7.328125 0 \nL 7.328125 8.296875 \nQ 12.9375 14.109375 22.625 23.890625 \nQ 32.328125 33.6875 34.8125 36.53125 \nQ 39.546875 41.84375 41.421875 45.53125 \nQ 43.3125 49.21875 43.3125 52.78125 \nQ 43.3125 58.59375 39.234375 62.25 \nQ 35.15625 65.921875 28.609375 65.921875 \nQ 23.96875 65.921875 18.8125 64.3125 \nQ 13.671875 62.703125 7.8125 59.421875 \nL 7.8125 69.390625 \nQ 13.765625 71.78125 18.9375 73 \nQ 24.125 74.21875 28.421875 74.21875 \nQ 39.75 74.21875 46.484375 68.546875 \nQ 53.21875 62.890625 53.21875 53.421875 \nQ 53.21875 48.921875 51.53125 44.890625 \nQ 49.859375 40.875 45.40625 35.40625 \nQ 44.1875 33.984375 37.640625 27.21875 \nQ 31.109375 20.453125 19.1875 8.296875 \nz\n\" id=\"DejaVuSans-50\"/>\n    </defs>\n    <g transform=\"translate(97.210134 16.318125)scale(0.12 -0.12)\">\n     <use xlink:href=\"#DejaVuSans-84\"/>\n     <use x=\"60.818359\" xlink:href=\"#DejaVuSans-101\"/>\n     <use x=\"122.341797\" xlink:href=\"#DejaVuSans-115\"/>\n     <use x=\"174.441406\" xlink:href=\"#DejaVuSans-116\"/>\n     <use x=\"213.650391\" xlink:href=\"#DejaVuSans-58\"/>\n     <use x=\"247.341797\" xlink:href=\"#DejaVuSans-32\"/>\n     <use x=\"279.128906\" xlink:href=\"#DejaVuSans-50\"/>\n    </g>\n   </g>\n  </g>\n  <g id=\"axes_3\">\n   <g clip-path=\"url(#p2c5c4ca67d)\">\n    <image height=\"48\" id=\"image9c14f5a5ed\" transform=\"scale(1 -1)translate(0 -48)\" width=\"48\" x=\"151.254196\" xlink:href=\"data:image/png;base64,\niVBORw0KGgoAAAANSUhEUgAAADAAAAAwCAYAAABXAvmHAAAABHNCSVQICAgIfAhkiAAAAfJJREFUaIHtmL2q4kAYhp+zbqVVKu20szNaWEbBVBY23oogeAsWgo2XIEhAQdIKARvvwLkBQbBQQSGgmC2WzPGwKwvHGWWWPNUkxffl5X3nJ/MRRVGEwfx49wc8SyLg3SQC3o3xAn6qKHK5XACo1WoAZLNZxuMxAOl0WkWLhyQOwKcDh8MBgNVqxXA4BKDX66lo8RAlAuKYNJtNAIQQeJ4HQLfbBSCVSqlo9QfGR+hD5VlouVwC0Gg0uF6vACwWC/lOB8Y7oGQOxDiOA/xeRjebjcrSD9HiQKvVkmPf9/F9X0cbIInQ38nn83K83+91tJAY74DSZTRmu91SLpcBsCwLgPV6rboN8B84oEVALpfDcRwcx0EIgRCC2Wymo5U+B2zbxrZt+RyfjVSTROgRruviui6WZWFZFkIIwjAkDEOlfYx3QMsyek+n0wFgMBgwn8+Br0eNZ9GyE99TKpXkuN/vA2oFGB8h7Q7U63U53u12yusnDvyLQqEAQLValQ6cz2cAMpnM0/WNd4DoRXieFwEREAVBEAVBoKSu9gjFFItFGZnJZAJ8neDfxfgIad+J74mvGUejEQDH4/HpmsY78LI5AMjfzNPpBMB0OgWg3W5/u+ZLBVQqFQButxuAkssv4yP00kmsA+MdSAS8m0TAuzFewC84jUHPAqKyZwAAAABJRU5ErkJggg==\" y=\"-22.146696\"/>\n   </g>\n   <g id=\"text_3\">\n    <!-- Test: 1 -->\n    <defs>\n     <path d=\"M 12.40625 8.296875 \nL 28.515625 8.296875 \nL 28.515625 63.921875 \nL 10.984375 60.40625 \nL 10.984375 69.390625 \nL 28.421875 72.90625 \nL 38.28125 72.90625 \nL 38.28125 8.296875 \nL 54.390625 8.296875 \nL 54.390625 0 \nL 12.40625 0 \nz\n\" id=\"DejaVuSans-49\"/>\n    </defs>\n    <g transform=\"translate(154.60442 16.318125)scale(0.12 -0.12)\">\n     <use xlink:href=\"#DejaVuSans-84\"/>\n     <use x=\"60.818359\" xlink:href=\"#DejaVuSans-101\"/>\n     <use x=\"122.341797\" xlink:href=\"#DejaVuSans-115\"/>\n     <use x=\"174.441406\" xlink:href=\"#DejaVuSans-116\"/>\n     <use x=\"213.650391\" xlink:href=\"#DejaVuSans-58\"/>\n     <use x=\"247.341797\" xlink:href=\"#DejaVuSans-32\"/>\n     <use x=\"279.128906\" xlink:href=\"#DejaVuSans-49\"/>\n    </g>\n   </g>\n  </g>\n  <g id=\"axes_4\">\n   <g clip-path=\"url(#pbc6c5b5ab7)\">\n    <image height=\"48\" id=\"image1c9ccca53a\" transform=\"scale(1 -1)translate(0 -48)\" width=\"48\" x=\"208.648482\" xlink:href=\"data:image/png;base64,\niVBORw0KGgoAAAANSUhEUgAAADAAAAAwCAYAAABXAvmHAAAABHNCSVQICAgIfAhkiAAAAwBJREFUaIHtmb9LK0EQgL+Lz0YLmztEC8uYpLFQ0UKwUxATQVIIqSyCEawsbURBa9FGtLJUQYKaaCWYVCK2QYKYiGCj/4HovuLYxfgrt/fuGc7kg0DY25uduZm52dkzhBACHxOotQL/SsOAWtMwoNb43oA/Xgg5PT0FYGtrC4CjoyOi0SgAMzMzAAghiEQiAHR1dXmxLPALPGC4LWS5XI50Og3A2toaAE1NTV/Of3l5YX19HYC5uTk3S36KtgF3d3cADA4O8vT0pJSD6ga0t7cDEA6HAdje3gago6ODlpYWTdVtfB9C2kl8cHAAoJ6+DvKefD4PQCgUAiCVSrGxsaEtD36BB7RzIBgMAnBzc6PGMplMxZxkMsnDw0PFmBACwzC+lPv6+qqjhkLbgO7ubgBub2/V2PPzc9X7xsbGuL6+BuD+/v7D9dHRUQCOj4911PF/CP2YAdlsllgsRiwW+/R6oVCgUCiQz+dVkjvB9x74sRwAeHx8BOynDTA1NQXYr1dZDGWxu7i4cLRn8r0HtAvZ+Pg4gNrX6GBZFgDDw8MALCwsADA/P6/myGLn1KsITYrFoigWi8IwDPVzS6lUEqVSSfT39wtAAEpmIpFwJKP+Qkjyduc5MDAAwP7+PuC8YZGVORAIqP9S7tLSkiMZ9euBt1xeXgIwPT0NwO7uLqZpVr3v8PAQgKurK9draxvQ3NwMgGmaH7bUuVwOsEMqHo8DsLi4CFDRsMimaHV1VY21trYCsLy8DDgPQ9+HkOue+Pz8XIVMuVwGPm8pU6kUACMjI7S1tQFwdnYGwMrKipon68rs7KyWHvXrAbD3+AAnJye2sG8aFtM0VZzLHHiL24amvj0gCQTs51DtWOX9dfmm2dvbo7e319XantQBebAlD7q+akgmJycBGBoaAqCnpwfAtfLQCKFKZMMyMTGhqrPkfx0t+t4DnhpgWRaWZbGzs+Ol2G/xJInf09nZSTKZBGBzcxOAvr4+9c3AS3wfQp4mcS3wvQcaBtSahgG1xvcG/AXjO6lEq65e3AAAAABJRU5ErkJggg==\" y=\"-22.146696\"/>\n   </g>\n   <g id=\"text_4\">\n    <!-- Test: 0 -->\n    <defs>\n     <path d=\"M 31.78125 66.40625 \nQ 24.171875 66.40625 20.328125 58.90625 \nQ 16.5 51.421875 16.5 36.375 \nQ 16.5 21.390625 20.328125 13.890625 \nQ 24.171875 6.390625 31.78125 6.390625 \nQ 39.453125 6.390625 43.28125 13.890625 \nQ 47.125 21.390625 47.125 36.375 \nQ 47.125 51.421875 43.28125 58.90625 \nQ 39.453125 66.40625 31.78125 66.40625 \nz\nM 31.78125 74.21875 \nQ 44.046875 74.21875 50.515625 64.515625 \nQ 56.984375 54.828125 56.984375 36.375 \nQ 56.984375 17.96875 50.515625 8.265625 \nQ 44.046875 -1.421875 31.78125 -1.421875 \nQ 19.53125 -1.421875 13.0625 8.265625 \nQ 6.59375 17.96875 6.59375 36.375 \nQ 6.59375 54.828125 13.0625 64.515625 \nQ 19.53125 74.21875 31.78125 74.21875 \nz\n\" id=\"DejaVuSans-48\"/>\n    </defs>\n    <g transform=\"translate(211.998705 16.318125)scale(0.12 -0.12)\">\n     <use xlink:href=\"#DejaVuSans-84\"/>\n     <use x=\"60.818359\" xlink:href=\"#DejaVuSans-101\"/>\n     <use x=\"122.341797\" xlink:href=\"#DejaVuSans-115\"/>\n     <use x=\"174.441406\" xlink:href=\"#DejaVuSans-116\"/>\n     <use x=\"213.650391\" xlink:href=\"#DejaVuSans-58\"/>\n     <use x=\"247.341797\" xlink:href=\"#DejaVuSans-32\"/>\n     <use x=\"279.128906\" xlink:href=\"#DejaVuSans-48\"/>\n    </g>\n   </g>\n  </g>\n  <g id=\"axes_5\">\n   <g clip-path=\"url(#pf061e05d82)\">\n    <image height=\"48\" id=\"image008c04d586\" transform=\"scale(1 -1)translate(0 -48)\" width=\"48\" x=\"266.042768\" xlink:href=\"data:image/png;base64,\niVBORw0KGgoAAAANSUhEUgAAADAAAAAwCAYAAABXAvmHAAAABHNCSVQICAgIfAhkiAAAAsZJREFUaIHtmD9I61AUxn8JSiNugYJDwaFQUOwqbv5ZFMFO2gpuji6im4tuHTpIaSe3bnXoqKCzoFAEQQUXFZ2kwbpUKKJ43iCJ9GkhuX2v5dJ+EJLAOV/uyffde25iiIigMcxOD6BV9AroNLQvoK+dD1tYWABgY2MDgJmZmZY5tVfAaOcyOjQ0BMD7+zsA29vbAKyvrytz9hQIgq2tLQAymQwAAwMDALy+vipztnUSW5bVcF+v11vm1N5CbVXAdeu/dK32CrS1AMMwfj2urq6UOVuy0MXFBQB3d3dNYxYXF73r+/v7X2Pi8bjyGLS3UGAFbm5uANjZ2eHg4ACAt7e3pvHhcBj4ss/z8/OvMfV63esJQaG9AoE7cSqVAqBUKjE+Pg7A5uZm0/jr62vga548Pj4CcHp62hCTz+dZW1sLMgwP2ivgew64bf/29haAsbExDg8PAbBtu2ne0tKSd+04DvC9K3Xx+fnpdxg/IT5RqVSkUqmIaZpimqasrKz4Tf2BZDIpyWTS41peXlbm0t5CvgsIhUKEQiEikQiRSIRisaj80Gg0SjQa9e7dia4C7RVoaRnN5/MAgZfAh4cHACYmJgB4eXnh6OgICP6hH7iAUqkEwOrqKsPDwwDKmzG3f2SzWaampgA4Pj4GoL+/3xeH9hbyvYz+jVQqJZZliWVZUi6XpVwuB+aoVqtSrVYFEMMwxDAMcRxHHMfxzdG9ClxeXopt22LbtsRiMYnFYlKr1aRWqwXmmpyc9Jpa1ymg/EUWj8fZ398HYG5uDoB0Ot1w9otEIsHJyYnSOFr6sfXx8QHA9PQ08L3Re3p6CsRTKBTY3d0F4OzsDIDBwUFfud1rIYC+vq/0+fl5AHK5nBLP+fk5o6OjgP8376K7FXAxOzsLwN7enlJ+IpFgZGREKbetf6f/B7S3UK+ATqNXQKfRK6DT0L6APwlfumBBom7NAAAAAElFTkSuQmCC\" y=\"-22.146696\"/>\n   </g>\n   <g id=\"text_5\">\n    <!-- Test: 4 -->\n    <defs>\n     <path d=\"M 37.796875 64.3125 \nL 12.890625 25.390625 \nL 37.796875 25.390625 \nz\nM 35.203125 72.90625 \nL 47.609375 72.90625 \nL 47.609375 25.390625 \nL 58.015625 25.390625 \nL 58.015625 17.1875 \nL 47.609375 17.1875 \nL 47.609375 0 \nL 37.796875 0 \nL 37.796875 17.1875 \nL 4.890625 17.1875 \nL 4.890625 26.703125 \nz\n\" id=\"DejaVuSans-52\"/>\n    </defs>\n    <g transform=\"translate(269.392991 16.318125)scale(0.12 -0.12)\">\n     <use xlink:href=\"#DejaVuSans-84\"/>\n     <use x=\"60.818359\" xlink:href=\"#DejaVuSans-101\"/>\n     <use x=\"122.341797\" xlink:href=\"#DejaVuSans-115\"/>\n     <use x=\"174.441406\" xlink:href=\"#DejaVuSans-116\"/>\n     <use x=\"213.650391\" xlink:href=\"#DejaVuSans-58\"/>\n     <use x=\"247.341797\" xlink:href=\"#DejaVuSans-32\"/>\n     <use x=\"279.128906\" xlink:href=\"#DejaVuSans-52\"/>\n    </g>\n   </g>\n  </g>\n  <g id=\"axes_6\">\n   <g clip-path=\"url(#peadb2d8679)\">\n    <image height=\"48\" id=\"image1cb55b024d\" transform=\"scale(1 -1)translate(0 -48)\" width=\"48\" x=\"323.437054\" xlink:href=\"data:image/png;base64,\niVBORw0KGgoAAAANSUhEUgAAADAAAAAwCAYAAABXAvmHAAAABHNCSVQICAgIfAhkiAAAAi9JREFUaIHtmL1qKkEYhp89aCDdwlpKqpSCIqyFFinFxs5iiZfgFailFyAEFKxsbAUbm/QJGrAJVpZqKsW1kfygcwrZQTk55KAzRxb2gYV1dvleX95vxhkNIYTAx/y69Bc4l8DApfG9gZDKYm9vbwBUq1WSySQApVJJpcQfBAkAbLdbACqVCgDtdluO6SZIAGC32wHw8vIixyaTiYrSP6LEQDgcBuD29haA8XjM+/s7AF9fX0fvqCZooUOy2SwAvV6P6XQKwHq9BiASiaiUkgQJHGJZlrxfLBYA1Ot1AGq1mkopiaFyOz2bzQC4ubnBKxuLxQB4fX1VJXOE71sIoYH7+3sBCECYpilM0xTD4VCHlPB9AloMFAoFee+6Lq7r0mq1dEj5fw5oMWBZFoZhYBiGHHt8fNQhpXYZPaRYLALQ6XQAME1TLqXRaFSZTtBCf8O2bWzblp9d16XRaNBoNJTq+D4BbXPg6ekJgEwmI8dM0wRgtVop09FmwCOdTgPw/PzM1dUVAIPBAIBEInF2fd+3kNLt9Hfc3d0B+wQ+Pz8BKJfLAPT7/bPr+z4B7XPA+6cilUrJsVBoH7x34D+HIIGf+Pj4APar0Wg0OnrmzYFcLne6gJZTxjd0u115yPEux3GE4zhit9udXDdooX9luVwSj8cBmM/nR882mw3X19cn1fV9Atp/yDwsy6LZbAKQz+cBeHh4AJBbjFP4by2kC9+3UGDg0gQGLk1g4NL43sBvdngGifB0SVMAAAAASUVORK5CYII=\" y=\"-22.146696\"/>\n   </g>\n   <g id=\"text_6\">\n    <!-- Test: 1 -->\n    <g transform=\"translate(326.787277 16.318125)scale(0.12 -0.12)\">\n     <use xlink:href=\"#DejaVuSans-84\"/>\n     <use x=\"60.818359\" xlink:href=\"#DejaVuSans-101\"/>\n     <use x=\"122.341797\" xlink:href=\"#DejaVuSans-115\"/>\n     <use x=\"174.441406\" xlink:href=\"#DejaVuSans-116\"/>\n     <use x=\"213.650391\" xlink:href=\"#DejaVuSans-58\"/>\n     <use x=\"247.341797\" xlink:href=\"#DejaVuSans-32\"/>\n     <use x=\"279.128906\" xlink:href=\"#DejaVuSans-49\"/>\n    </g>\n   </g>\n  </g>\n  <g id=\"axes_7\">\n   <g id=\"patch_2\">\n    <path d=\"M 36.465625 214.254229 \nL 84.294196 214.254229 \nL 84.294196 115.417865 \nL 36.465625 115.417865 \nz\n\" style=\"fill:#ffffff;\"/>\n   </g>\n   <g id=\"matplotlib.axis_1\">\n    <g id=\"xtick_1\">\n     <g id=\"line2d_1\">\n      <defs>\n       <path d=\"M 0 0 \nL 0 3.5 \n\" id=\"mb330304618\" style=\"stroke:#000000;stroke-width:0.8;\"/>\n      </defs>\n      <g>\n       <use style=\"stroke:#000000;stroke-width:0.8;\" x=\"36.465625\" xlink:href=\"#mb330304618\" y=\"214.254229\"/>\n      </g>\n     </g>\n     <g id=\"text_7\">\n      <!-- 0 -->\n      <g transform=\"translate(33.284375 228.852666)scale(0.1 -0.1)\">\n       <use xlink:href=\"#DejaVuSans-48\"/>\n      </g>\n     </g>\n    </g>\n    <g id=\"xtick_2\">\n     <g id=\"line2d_2\">\n      <g>\n       <use style=\"stroke:#000000;stroke-width:0.8;\" x=\"84.294196\" xlink:href=\"#mb330304618\" y=\"214.254229\"/>\n      </g>\n     </g>\n     <g id=\"text_8\">\n      <!-- 1 -->\n      <g transform=\"translate(81.112946 228.852666)scale(0.1 -0.1)\">\n       <use xlink:href=\"#DejaVuSans-49\"/>\n      </g>\n     </g>\n    </g>\n   </g>\n   <g id=\"matplotlib.axis_2\">\n    <g id=\"ytick_1\">\n     <g id=\"line2d_3\">\n      <defs>\n       <path d=\"M 0 0 \nL -3.5 0 \n\" id=\"m679887242b\" style=\"stroke:#000000;stroke-width:0.8;\"/>\n      </defs>\n      <g>\n       <use style=\"stroke:#000000;stroke-width:0.8;\" x=\"36.465625\" xlink:href=\"#m679887242b\" y=\"214.254229\"/>\n      </g>\n     </g>\n     <g id=\"text_9\">\n      <!-- 0.00 -->\n      <defs>\n       <path d=\"M 10.6875 12.40625 \nL 21 12.40625 \nL 21 0 \nL 10.6875 0 \nz\n\" id=\"DejaVuSans-46\"/>\n      </defs>\n      <g transform=\"translate(7.2 218.053448)scale(0.1 -0.1)\">\n       <use xlink:href=\"#DejaVuSans-48\"/>\n       <use x=\"63.623047\" xlink:href=\"#DejaVuSans-46\"/>\n       <use x=\"95.410156\" xlink:href=\"#DejaVuSans-48\"/>\n       <use x=\"159.033203\" xlink:href=\"#DejaVuSans-48\"/>\n      </g>\n     </g>\n    </g>\n    <g id=\"ytick_2\">\n     <g id=\"line2d_4\">\n      <g>\n       <use style=\"stroke:#000000;stroke-width:0.8;\" x=\"36.465625\" xlink:href=\"#m679887242b\" y=\"189.545138\"/>\n      </g>\n     </g>\n     <g id=\"text_10\">\n      <!-- 0.25 -->\n      <defs>\n       <path d=\"M 10.796875 72.90625 \nL 49.515625 72.90625 \nL 49.515625 64.59375 \nL 19.828125 64.59375 \nL 19.828125 46.734375 \nQ 21.96875 47.46875 24.109375 47.828125 \nQ 26.265625 48.1875 28.421875 48.1875 \nQ 40.625 48.1875 47.75 41.5 \nQ 54.890625 34.8125 54.890625 23.390625 \nQ 54.890625 11.625 47.5625 5.09375 \nQ 40.234375 -1.421875 26.90625 -1.421875 \nQ 22.3125 -1.421875 17.546875 -0.640625 \nQ 12.796875 0.140625 7.71875 1.703125 \nL 7.71875 11.625 \nQ 12.109375 9.234375 16.796875 8.0625 \nQ 21.484375 6.890625 26.703125 6.890625 \nQ 35.15625 6.890625 40.078125 11.328125 \nQ 45.015625 15.765625 45.015625 23.390625 \nQ 45.015625 31 40.078125 35.4375 \nQ 35.15625 39.890625 26.703125 39.890625 \nQ 22.75 39.890625 18.8125 39.015625 \nQ 14.890625 38.140625 10.796875 36.28125 \nz\n\" id=\"DejaVuSans-53\"/>\n      </defs>\n      <g transform=\"translate(7.2 193.344357)scale(0.1 -0.1)\">\n       <use xlink:href=\"#DejaVuSans-48\"/>\n       <use x=\"63.623047\" xlink:href=\"#DejaVuSans-46\"/>\n       <use x=\"95.410156\" xlink:href=\"#DejaVuSans-50\"/>\n       <use x=\"159.033203\" xlink:href=\"#DejaVuSans-53\"/>\n      </g>\n     </g>\n    </g>\n    <g id=\"ytick_3\">\n     <g id=\"line2d_5\">\n      <g>\n       <use style=\"stroke:#000000;stroke-width:0.8;\" x=\"36.465625\" xlink:href=\"#m679887242b\" y=\"164.836047\"/>\n      </g>\n     </g>\n     <g id=\"text_11\">\n      <!-- 0.50 -->\n      <g transform=\"translate(7.2 168.635266)scale(0.1 -0.1)\">\n       <use xlink:href=\"#DejaVuSans-48\"/>\n       <use x=\"63.623047\" xlink:href=\"#DejaVuSans-46\"/>\n       <use x=\"95.410156\" xlink:href=\"#DejaVuSans-53\"/>\n       <use x=\"159.033203\" xlink:href=\"#DejaVuSans-48\"/>\n      </g>\n     </g>\n    </g>\n    <g id=\"ytick_4\">\n     <g id=\"line2d_6\">\n      <g>\n       <use style=\"stroke:#000000;stroke-width:0.8;\" x=\"36.465625\" xlink:href=\"#m679887242b\" y=\"140.126956\"/>\n      </g>\n     </g>\n     <g id=\"text_12\">\n      <!-- 0.75 -->\n      <g transform=\"translate(7.2 143.926175)scale(0.1 -0.1)\">\n       <use xlink:href=\"#DejaVuSans-48\"/>\n       <use x=\"63.623047\" xlink:href=\"#DejaVuSans-46\"/>\n       <use x=\"95.410156\" xlink:href=\"#DejaVuSans-55\"/>\n       <use x=\"159.033203\" xlink:href=\"#DejaVuSans-53\"/>\n      </g>\n     </g>\n    </g>\n    <g id=\"ytick_5\">\n     <g id=\"line2d_7\">\n      <g>\n       <use style=\"stroke:#000000;stroke-width:0.8;\" x=\"36.465625\" xlink:href=\"#m679887242b\" y=\"115.417865\"/>\n      </g>\n     </g>\n     <g id=\"text_13\">\n      <!-- 1.00 -->\n      <g transform=\"translate(7.2 119.217084)scale(0.1 -0.1)\">\n       <use xlink:href=\"#DejaVuSans-49\"/>\n       <use x=\"63.623047\" xlink:href=\"#DejaVuSans-46\"/>\n       <use x=\"95.410156\" xlink:href=\"#DejaVuSans-48\"/>\n       <use x=\"159.033203\" xlink:href=\"#DejaVuSans-48\"/>\n      </g>\n     </g>\n    </g>\n   </g>\n   <g id=\"patch_3\">\n    <path d=\"M 36.465625 214.254229 \nL 36.465625 115.417865 \n\" style=\"fill:none;stroke:#000000;stroke-linecap:square;stroke-linejoin:miter;stroke-width:0.8;\"/>\n   </g>\n   <g id=\"patch_4\">\n    <path d=\"M 84.294196 214.254229 \nL 84.294196 115.417865 \n\" style=\"fill:none;stroke:#000000;stroke-linecap:square;stroke-linejoin:miter;stroke-width:0.8;\"/>\n   </g>\n   <g id=\"patch_5\">\n    <path d=\"M 36.465625 214.254229 \nL 84.294196 214.254229 \n\" style=\"fill:none;stroke:#000000;stroke-linecap:square;stroke-linejoin:miter;stroke-width:0.8;\"/>\n   </g>\n   <g id=\"patch_6\">\n    <path d=\"M 36.465625 115.417865 \nL 84.294196 115.417865 \n\" style=\"fill:none;stroke:#000000;stroke-linecap:square;stroke-linejoin:miter;stroke-width:0.8;\"/>\n   </g>\n  </g>\n  <g id=\"axes_8\">\n   <g id=\"patch_7\">\n    <path d=\"M 93.859911 214.254229 \nL 141.688482 214.254229 \nL 141.688482 115.417865 \nL 93.859911 115.417865 \nz\n\" style=\"fill:#ffffff;\"/>\n   </g>\n   <g id=\"matplotlib.axis_3\">\n    <g id=\"xtick_3\">\n     <g id=\"line2d_8\">\n      <g>\n       <use style=\"stroke:#000000;stroke-width:0.8;\" x=\"93.859911\" xlink:href=\"#mb330304618\" y=\"214.254229\"/>\n      </g>\n     </g>\n     <g id=\"text_14\">\n      <!-- 0 -->\n      <g transform=\"translate(90.678661 228.852666)scale(0.1 -0.1)\">\n       <use xlink:href=\"#DejaVuSans-48\"/>\n      </g>\n     </g>\n    </g>\n    <g id=\"xtick_4\">\n     <g id=\"line2d_9\">\n      <g>\n       <use style=\"stroke:#000000;stroke-width:0.8;\" x=\"141.688482\" xlink:href=\"#mb330304618\" y=\"214.254229\"/>\n      </g>\n     </g>\n     <g id=\"text_15\">\n      <!-- 1 -->\n      <g transform=\"translate(138.507232 228.852666)scale(0.1 -0.1)\">\n       <use xlink:href=\"#DejaVuSans-49\"/>\n      </g>\n     </g>\n    </g>\n   </g>\n   <g id=\"matplotlib.axis_4\">\n    <g id=\"ytick_6\">\n     <g id=\"line2d_10\">\n      <g>\n       <use style=\"stroke:#000000;stroke-width:0.8;\" x=\"93.859911\" xlink:href=\"#m679887242b\" y=\"214.254229\"/>\n      </g>\n     </g>\n     <g id=\"text_16\">\n      <!-- 0.00 -->\n      <g transform=\"translate(64.594286 218.053448)scale(0.1 -0.1)\">\n       <use xlink:href=\"#DejaVuSans-48\"/>\n       <use x=\"63.623047\" xlink:href=\"#DejaVuSans-46\"/>\n       <use x=\"95.410156\" xlink:href=\"#DejaVuSans-48\"/>\n       <use x=\"159.033203\" xlink:href=\"#DejaVuSans-48\"/>\n      </g>\n     </g>\n    </g>\n    <g id=\"ytick_7\">\n     <g id=\"line2d_11\">\n      <g>\n       <use style=\"stroke:#000000;stroke-width:0.8;\" x=\"93.859911\" xlink:href=\"#m679887242b\" y=\"189.545138\"/>\n      </g>\n     </g>\n     <g id=\"text_17\">\n      <!-- 0.25 -->\n      <g transform=\"translate(64.594286 193.344357)scale(0.1 -0.1)\">\n       <use xlink:href=\"#DejaVuSans-48\"/>\n       <use x=\"63.623047\" xlink:href=\"#DejaVuSans-46\"/>\n       <use x=\"95.410156\" xlink:href=\"#DejaVuSans-50\"/>\n       <use x=\"159.033203\" xlink:href=\"#DejaVuSans-53\"/>\n      </g>\n     </g>\n    </g>\n    <g id=\"ytick_8\">\n     <g id=\"line2d_12\">\n      <g>\n       <use style=\"stroke:#000000;stroke-width:0.8;\" x=\"93.859911\" xlink:href=\"#m679887242b\" y=\"164.836047\"/>\n      </g>\n     </g>\n     <g id=\"text_18\">\n      <!-- 0.50 -->\n      <g transform=\"translate(64.594286 168.635266)scale(0.1 -0.1)\">\n       <use xlink:href=\"#DejaVuSans-48\"/>\n       <use x=\"63.623047\" xlink:href=\"#DejaVuSans-46\"/>\n       <use x=\"95.410156\" xlink:href=\"#DejaVuSans-53\"/>\n       <use x=\"159.033203\" xlink:href=\"#DejaVuSans-48\"/>\n      </g>\n     </g>\n    </g>\n    <g id=\"ytick_9\">\n     <g id=\"line2d_13\">\n      <g>\n       <use style=\"stroke:#000000;stroke-width:0.8;\" x=\"93.859911\" xlink:href=\"#m679887242b\" y=\"140.126956\"/>\n      </g>\n     </g>\n     <g id=\"text_19\">\n      <!-- 0.75 -->\n      <g transform=\"translate(64.594286 143.926175)scale(0.1 -0.1)\">\n       <use xlink:href=\"#DejaVuSans-48\"/>\n       <use x=\"63.623047\" xlink:href=\"#DejaVuSans-46\"/>\n       <use x=\"95.410156\" xlink:href=\"#DejaVuSans-55\"/>\n       <use x=\"159.033203\" xlink:href=\"#DejaVuSans-53\"/>\n      </g>\n     </g>\n    </g>\n    <g id=\"ytick_10\">\n     <g id=\"line2d_14\">\n      <g>\n       <use style=\"stroke:#000000;stroke-width:0.8;\" x=\"93.859911\" xlink:href=\"#m679887242b\" y=\"115.417865\"/>\n      </g>\n     </g>\n     <g id=\"text_20\">\n      <!-- 1.00 -->\n      <g transform=\"translate(64.594286 119.217084)scale(0.1 -0.1)\">\n       <use xlink:href=\"#DejaVuSans-49\"/>\n       <use x=\"63.623047\" xlink:href=\"#DejaVuSans-46\"/>\n       <use x=\"95.410156\" xlink:href=\"#DejaVuSans-48\"/>\n       <use x=\"159.033203\" xlink:href=\"#DejaVuSans-48\"/>\n      </g>\n     </g>\n    </g>\n   </g>\n   <g id=\"patch_8\">\n    <path d=\"M 93.859911 214.254229 \nL 93.859911 115.417865 \n\" style=\"fill:none;stroke:#000000;stroke-linecap:square;stroke-linejoin:miter;stroke-width:0.8;\"/>\n   </g>\n   <g id=\"patch_9\">\n    <path d=\"M 141.688482 214.254229 \nL 141.688482 115.417865 \n\" style=\"fill:none;stroke:#000000;stroke-linecap:square;stroke-linejoin:miter;stroke-width:0.8;\"/>\n   </g>\n   <g id=\"patch_10\">\n    <path d=\"M 93.859911 214.254229 \nL 141.688482 214.254229 \n\" style=\"fill:none;stroke:#000000;stroke-linecap:square;stroke-linejoin:miter;stroke-width:0.8;\"/>\n   </g>\n   <g id=\"patch_11\">\n    <path d=\"M 93.859911 115.417865 \nL 141.688482 115.417865 \n\" style=\"fill:none;stroke:#000000;stroke-linecap:square;stroke-linejoin:miter;stroke-width:0.8;\"/>\n   </g>\n  </g>\n  <g id=\"axes_9\">\n   <g id=\"patch_12\">\n    <path d=\"M 151.254196 214.254229 \nL 199.082768 214.254229 \nL 199.082768 115.417865 \nL 151.254196 115.417865 \nz\n\" style=\"fill:#ffffff;\"/>\n   </g>\n   <g id=\"matplotlib.axis_5\">\n    <g id=\"xtick_5\">\n     <g id=\"line2d_15\">\n      <g>\n       <use style=\"stroke:#000000;stroke-width:0.8;\" x=\"151.254196\" xlink:href=\"#mb330304618\" y=\"214.254229\"/>\n      </g>\n     </g>\n     <g id=\"text_21\">\n      <!-- 0 -->\n      <g transform=\"translate(148.072946 228.852666)scale(0.1 -0.1)\">\n       <use xlink:href=\"#DejaVuSans-48\"/>\n      </g>\n     </g>\n    </g>\n    <g id=\"xtick_6\">\n     <g id=\"line2d_16\">\n      <g>\n       <use style=\"stroke:#000000;stroke-width:0.8;\" x=\"199.082768\" xlink:href=\"#mb330304618\" y=\"214.254229\"/>\n      </g>\n     </g>\n     <g id=\"text_22\">\n      <!-- 1 -->\n      <g transform=\"translate(195.901518 228.852666)scale(0.1 -0.1)\">\n       <use xlink:href=\"#DejaVuSans-49\"/>\n      </g>\n     </g>\n    </g>\n   </g>\n   <g id=\"matplotlib.axis_6\">\n    <g id=\"ytick_11\">\n     <g id=\"line2d_17\">\n      <g>\n       <use style=\"stroke:#000000;stroke-width:0.8;\" x=\"151.254196\" xlink:href=\"#m679887242b\" y=\"214.254229\"/>\n      </g>\n     </g>\n     <g id=\"text_23\">\n      <!-- 0.00 -->\n      <g transform=\"translate(121.988571 218.053448)scale(0.1 -0.1)\">\n       <use xlink:href=\"#DejaVuSans-48\"/>\n       <use x=\"63.623047\" xlink:href=\"#DejaVuSans-46\"/>\n       <use x=\"95.410156\" xlink:href=\"#DejaVuSans-48\"/>\n       <use x=\"159.033203\" xlink:href=\"#DejaVuSans-48\"/>\n      </g>\n     </g>\n    </g>\n    <g id=\"ytick_12\">\n     <g id=\"line2d_18\">\n      <g>\n       <use style=\"stroke:#000000;stroke-width:0.8;\" x=\"151.254196\" xlink:href=\"#m679887242b\" y=\"189.545138\"/>\n      </g>\n     </g>\n     <g id=\"text_24\">\n      <!-- 0.25 -->\n      <g transform=\"translate(121.988571 193.344357)scale(0.1 -0.1)\">\n       <use xlink:href=\"#DejaVuSans-48\"/>\n       <use x=\"63.623047\" xlink:href=\"#DejaVuSans-46\"/>\n       <use x=\"95.410156\" xlink:href=\"#DejaVuSans-50\"/>\n       <use x=\"159.033203\" xlink:href=\"#DejaVuSans-53\"/>\n      </g>\n     </g>\n    </g>\n    <g id=\"ytick_13\">\n     <g id=\"line2d_19\">\n      <g>\n       <use style=\"stroke:#000000;stroke-width:0.8;\" x=\"151.254196\" xlink:href=\"#m679887242b\" y=\"164.836047\"/>\n      </g>\n     </g>\n     <g id=\"text_25\">\n      <!-- 0.50 -->\n      <g transform=\"translate(121.988571 168.635266)scale(0.1 -0.1)\">\n       <use xlink:href=\"#DejaVuSans-48\"/>\n       <use x=\"63.623047\" xlink:href=\"#DejaVuSans-46\"/>\n       <use x=\"95.410156\" xlink:href=\"#DejaVuSans-53\"/>\n       <use x=\"159.033203\" xlink:href=\"#DejaVuSans-48\"/>\n      </g>\n     </g>\n    </g>\n    <g id=\"ytick_14\">\n     <g id=\"line2d_20\">\n      <g>\n       <use style=\"stroke:#000000;stroke-width:0.8;\" x=\"151.254196\" xlink:href=\"#m679887242b\" y=\"140.126956\"/>\n      </g>\n     </g>\n     <g id=\"text_26\">\n      <!-- 0.75 -->\n      <g transform=\"translate(121.988571 143.926175)scale(0.1 -0.1)\">\n       <use xlink:href=\"#DejaVuSans-48\"/>\n       <use x=\"63.623047\" xlink:href=\"#DejaVuSans-46\"/>\n       <use x=\"95.410156\" xlink:href=\"#DejaVuSans-55\"/>\n       <use x=\"159.033203\" xlink:href=\"#DejaVuSans-53\"/>\n      </g>\n     </g>\n    </g>\n    <g id=\"ytick_15\">\n     <g id=\"line2d_21\">\n      <g>\n       <use style=\"stroke:#000000;stroke-width:0.8;\" x=\"151.254196\" xlink:href=\"#m679887242b\" y=\"115.417865\"/>\n      </g>\n     </g>\n     <g id=\"text_27\">\n      <!-- 1.00 -->\n      <g transform=\"translate(121.988571 119.217084)scale(0.1 -0.1)\">\n       <use xlink:href=\"#DejaVuSans-49\"/>\n       <use x=\"63.623047\" xlink:href=\"#DejaVuSans-46\"/>\n       <use x=\"95.410156\" xlink:href=\"#DejaVuSans-48\"/>\n       <use x=\"159.033203\" xlink:href=\"#DejaVuSans-48\"/>\n      </g>\n     </g>\n    </g>\n   </g>\n   <g id=\"patch_13\">\n    <path d=\"M 151.254196 214.254229 \nL 151.254196 115.417865 \n\" style=\"fill:none;stroke:#000000;stroke-linecap:square;stroke-linejoin:miter;stroke-width:0.8;\"/>\n   </g>\n   <g id=\"patch_14\">\n    <path d=\"M 199.082768 214.254229 \nL 199.082768 115.417865 \n\" style=\"fill:none;stroke:#000000;stroke-linecap:square;stroke-linejoin:miter;stroke-width:0.8;\"/>\n   </g>\n   <g id=\"patch_15\">\n    <path d=\"M 151.254196 214.254229 \nL 199.082768 214.254229 \n\" style=\"fill:none;stroke:#000000;stroke-linecap:square;stroke-linejoin:miter;stroke-width:0.8;\"/>\n   </g>\n   <g id=\"patch_16\">\n    <path d=\"M 151.254196 115.417865 \nL 199.082768 115.417865 \n\" style=\"fill:none;stroke:#000000;stroke-linecap:square;stroke-linejoin:miter;stroke-width:0.8;\"/>\n   </g>\n  </g>\n  <g id=\"axes_10\">\n   <g id=\"patch_17\">\n    <path d=\"M 208.648482 214.254229 \nL 256.477054 214.254229 \nL 256.477054 115.417865 \nL 208.648482 115.417865 \nz\n\" style=\"fill:#ffffff;\"/>\n   </g>\n   <g id=\"matplotlib.axis_7\">\n    <g id=\"xtick_7\">\n     <g id=\"line2d_22\">\n      <g>\n       <use style=\"stroke:#000000;stroke-width:0.8;\" x=\"208.648482\" xlink:href=\"#mb330304618\" y=\"214.254229\"/>\n      </g>\n     </g>\n     <g id=\"text_28\">\n      <!-- 0 -->\n      <g transform=\"translate(205.467232 228.852666)scale(0.1 -0.1)\">\n       <use xlink:href=\"#DejaVuSans-48\"/>\n      </g>\n     </g>\n    </g>\n    <g id=\"xtick_8\">\n     <g id=\"line2d_23\">\n      <g>\n       <use style=\"stroke:#000000;stroke-width:0.8;\" x=\"256.477054\" xlink:href=\"#mb330304618\" y=\"214.254229\"/>\n      </g>\n     </g>\n     <g id=\"text_29\">\n      <!-- 1 -->\n      <g transform=\"translate(253.295804 228.852666)scale(0.1 -0.1)\">\n       <use xlink:href=\"#DejaVuSans-49\"/>\n      </g>\n     </g>\n    </g>\n   </g>\n   <g id=\"matplotlib.axis_8\">\n    <g id=\"ytick_16\">\n     <g id=\"line2d_24\">\n      <g>\n       <use style=\"stroke:#000000;stroke-width:0.8;\" x=\"208.648482\" xlink:href=\"#m679887242b\" y=\"214.254229\"/>\n      </g>\n     </g>\n     <g id=\"text_30\">\n      <!-- 0.00 -->\n      <g transform=\"translate(179.382857 218.053448)scale(0.1 -0.1)\">\n       <use xlink:href=\"#DejaVuSans-48\"/>\n       <use x=\"63.623047\" xlink:href=\"#DejaVuSans-46\"/>\n       <use x=\"95.410156\" xlink:href=\"#DejaVuSans-48\"/>\n       <use x=\"159.033203\" xlink:href=\"#DejaVuSans-48\"/>\n      </g>\n     </g>\n    </g>\n    <g id=\"ytick_17\">\n     <g id=\"line2d_25\">\n      <g>\n       <use style=\"stroke:#000000;stroke-width:0.8;\" x=\"208.648482\" xlink:href=\"#m679887242b\" y=\"189.545138\"/>\n      </g>\n     </g>\n     <g id=\"text_31\">\n      <!-- 0.25 -->\n      <g transform=\"translate(179.382857 193.344357)scale(0.1 -0.1)\">\n       <use xlink:href=\"#DejaVuSans-48\"/>\n       <use x=\"63.623047\" xlink:href=\"#DejaVuSans-46\"/>\n       <use x=\"95.410156\" xlink:href=\"#DejaVuSans-50\"/>\n       <use x=\"159.033203\" xlink:href=\"#DejaVuSans-53\"/>\n      </g>\n     </g>\n    </g>\n    <g id=\"ytick_18\">\n     <g id=\"line2d_26\">\n      <g>\n       <use style=\"stroke:#000000;stroke-width:0.8;\" x=\"208.648482\" xlink:href=\"#m679887242b\" y=\"164.836047\"/>\n      </g>\n     </g>\n     <g id=\"text_32\">\n      <!-- 0.50 -->\n      <g transform=\"translate(179.382857 168.635266)scale(0.1 -0.1)\">\n       <use xlink:href=\"#DejaVuSans-48\"/>\n       <use x=\"63.623047\" xlink:href=\"#DejaVuSans-46\"/>\n       <use x=\"95.410156\" xlink:href=\"#DejaVuSans-53\"/>\n       <use x=\"159.033203\" xlink:href=\"#DejaVuSans-48\"/>\n      </g>\n     </g>\n    </g>\n    <g id=\"ytick_19\">\n     <g id=\"line2d_27\">\n      <g>\n       <use style=\"stroke:#000000;stroke-width:0.8;\" x=\"208.648482\" xlink:href=\"#m679887242b\" y=\"140.126956\"/>\n      </g>\n     </g>\n     <g id=\"text_33\">\n      <!-- 0.75 -->\n      <g transform=\"translate(179.382857 143.926175)scale(0.1 -0.1)\">\n       <use xlink:href=\"#DejaVuSans-48\"/>\n       <use x=\"63.623047\" xlink:href=\"#DejaVuSans-46\"/>\n       <use x=\"95.410156\" xlink:href=\"#DejaVuSans-55\"/>\n       <use x=\"159.033203\" xlink:href=\"#DejaVuSans-53\"/>\n      </g>\n     </g>\n    </g>\n    <g id=\"ytick_20\">\n     <g id=\"line2d_28\">\n      <g>\n       <use style=\"stroke:#000000;stroke-width:0.8;\" x=\"208.648482\" xlink:href=\"#m679887242b\" y=\"115.417865\"/>\n      </g>\n     </g>\n     <g id=\"text_34\">\n      <!-- 1.00 -->\n      <g transform=\"translate(179.382857 119.217084)scale(0.1 -0.1)\">\n       <use xlink:href=\"#DejaVuSans-49\"/>\n       <use x=\"63.623047\" xlink:href=\"#DejaVuSans-46\"/>\n       <use x=\"95.410156\" xlink:href=\"#DejaVuSans-48\"/>\n       <use x=\"159.033203\" xlink:href=\"#DejaVuSans-48\"/>\n      </g>\n     </g>\n    </g>\n   </g>\n   <g id=\"patch_18\">\n    <path d=\"M 208.648482 214.254229 \nL 208.648482 115.417865 \n\" style=\"fill:none;stroke:#000000;stroke-linecap:square;stroke-linejoin:miter;stroke-width:0.8;\"/>\n   </g>\n   <g id=\"patch_19\">\n    <path d=\"M 256.477054 214.254229 \nL 256.477054 115.417865 \n\" style=\"fill:none;stroke:#000000;stroke-linecap:square;stroke-linejoin:miter;stroke-width:0.8;\"/>\n   </g>\n   <g id=\"patch_20\">\n    <path d=\"M 208.648482 214.254229 \nL 256.477054 214.254229 \n\" style=\"fill:none;stroke:#000000;stroke-linecap:square;stroke-linejoin:miter;stroke-width:0.8;\"/>\n   </g>\n   <g id=\"patch_21\">\n    <path d=\"M 208.648482 115.417865 \nL 256.477054 115.417865 \n\" style=\"fill:none;stroke:#000000;stroke-linecap:square;stroke-linejoin:miter;stroke-width:0.8;\"/>\n   </g>\n  </g>\n  <g id=\"axes_11\">\n   <g id=\"patch_22\">\n    <path d=\"M 266.042768 214.254229 \nL 313.871339 214.254229 \nL 313.871339 115.417865 \nL 266.042768 115.417865 \nz\n\" style=\"fill:#ffffff;\"/>\n   </g>\n   <g id=\"matplotlib.axis_9\">\n    <g id=\"xtick_9\">\n     <g id=\"line2d_29\">\n      <g>\n       <use style=\"stroke:#000000;stroke-width:0.8;\" x=\"266.042768\" xlink:href=\"#mb330304618\" y=\"214.254229\"/>\n      </g>\n     </g>\n     <g id=\"text_35\">\n      <!-- 0 -->\n      <g transform=\"translate(262.861518 228.852666)scale(0.1 -0.1)\">\n       <use xlink:href=\"#DejaVuSans-48\"/>\n      </g>\n     </g>\n    </g>\n    <g id=\"xtick_10\">\n     <g id=\"line2d_30\">\n      <g>\n       <use style=\"stroke:#000000;stroke-width:0.8;\" x=\"313.871339\" xlink:href=\"#mb330304618\" y=\"214.254229\"/>\n      </g>\n     </g>\n     <g id=\"text_36\">\n      <!-- 1 -->\n      <g transform=\"translate(310.690089 228.852666)scale(0.1 -0.1)\">\n       <use xlink:href=\"#DejaVuSans-49\"/>\n      </g>\n     </g>\n    </g>\n   </g>\n   <g id=\"matplotlib.axis_10\">\n    <g id=\"ytick_21\">\n     <g id=\"line2d_31\">\n      <g>\n       <use style=\"stroke:#000000;stroke-width:0.8;\" x=\"266.042768\" xlink:href=\"#m679887242b\" y=\"214.254229\"/>\n      </g>\n     </g>\n     <g id=\"text_37\">\n      <!-- 0.00 -->\n      <g transform=\"translate(236.777143 218.053448)scale(0.1 -0.1)\">\n       <use xlink:href=\"#DejaVuSans-48\"/>\n       <use x=\"63.623047\" xlink:href=\"#DejaVuSans-46\"/>\n       <use x=\"95.410156\" xlink:href=\"#DejaVuSans-48\"/>\n       <use x=\"159.033203\" xlink:href=\"#DejaVuSans-48\"/>\n      </g>\n     </g>\n    </g>\n    <g id=\"ytick_22\">\n     <g id=\"line2d_32\">\n      <g>\n       <use style=\"stroke:#000000;stroke-width:0.8;\" x=\"266.042768\" xlink:href=\"#m679887242b\" y=\"189.545138\"/>\n      </g>\n     </g>\n     <g id=\"text_38\">\n      <!-- 0.25 -->\n      <g transform=\"translate(236.777143 193.344357)scale(0.1 -0.1)\">\n       <use xlink:href=\"#DejaVuSans-48\"/>\n       <use x=\"63.623047\" xlink:href=\"#DejaVuSans-46\"/>\n       <use x=\"95.410156\" xlink:href=\"#DejaVuSans-50\"/>\n       <use x=\"159.033203\" xlink:href=\"#DejaVuSans-53\"/>\n      </g>\n     </g>\n    </g>\n    <g id=\"ytick_23\">\n     <g id=\"line2d_33\">\n      <g>\n       <use style=\"stroke:#000000;stroke-width:0.8;\" x=\"266.042768\" xlink:href=\"#m679887242b\" y=\"164.836047\"/>\n      </g>\n     </g>\n     <g id=\"text_39\">\n      <!-- 0.50 -->\n      <g transform=\"translate(236.777143 168.635266)scale(0.1 -0.1)\">\n       <use xlink:href=\"#DejaVuSans-48\"/>\n       <use x=\"63.623047\" xlink:href=\"#DejaVuSans-46\"/>\n       <use x=\"95.410156\" xlink:href=\"#DejaVuSans-53\"/>\n       <use x=\"159.033203\" xlink:href=\"#DejaVuSans-48\"/>\n      </g>\n     </g>\n    </g>\n    <g id=\"ytick_24\">\n     <g id=\"line2d_34\">\n      <g>\n       <use style=\"stroke:#000000;stroke-width:0.8;\" x=\"266.042768\" xlink:href=\"#m679887242b\" y=\"140.126956\"/>\n      </g>\n     </g>\n     <g id=\"text_40\">\n      <!-- 0.75 -->\n      <g transform=\"translate(236.777143 143.926175)scale(0.1 -0.1)\">\n       <use xlink:href=\"#DejaVuSans-48\"/>\n       <use x=\"63.623047\" xlink:href=\"#DejaVuSans-46\"/>\n       <use x=\"95.410156\" xlink:href=\"#DejaVuSans-55\"/>\n       <use x=\"159.033203\" xlink:href=\"#DejaVuSans-53\"/>\n      </g>\n     </g>\n    </g>\n    <g id=\"ytick_25\">\n     <g id=\"line2d_35\">\n      <g>\n       <use style=\"stroke:#000000;stroke-width:0.8;\" x=\"266.042768\" xlink:href=\"#m679887242b\" y=\"115.417865\"/>\n      </g>\n     </g>\n     <g id=\"text_41\">\n      <!-- 1.00 -->\n      <g transform=\"translate(236.777143 119.217084)scale(0.1 -0.1)\">\n       <use xlink:href=\"#DejaVuSans-49\"/>\n       <use x=\"63.623047\" xlink:href=\"#DejaVuSans-46\"/>\n       <use x=\"95.410156\" xlink:href=\"#DejaVuSans-48\"/>\n       <use x=\"159.033203\" xlink:href=\"#DejaVuSans-48\"/>\n      </g>\n     </g>\n    </g>\n   </g>\n   <g id=\"patch_23\">\n    <path d=\"M 266.042768 214.254229 \nL 266.042768 115.417865 \n\" style=\"fill:none;stroke:#000000;stroke-linecap:square;stroke-linejoin:miter;stroke-width:0.8;\"/>\n   </g>\n   <g id=\"patch_24\">\n    <path d=\"M 313.871339 214.254229 \nL 313.871339 115.417865 \n\" style=\"fill:none;stroke:#000000;stroke-linecap:square;stroke-linejoin:miter;stroke-width:0.8;\"/>\n   </g>\n   <g id=\"patch_25\">\n    <path d=\"M 266.042768 214.254229 \nL 313.871339 214.254229 \n\" style=\"fill:none;stroke:#000000;stroke-linecap:square;stroke-linejoin:miter;stroke-width:0.8;\"/>\n   </g>\n   <g id=\"patch_26\">\n    <path d=\"M 266.042768 115.417865 \nL 313.871339 115.417865 \n\" style=\"fill:none;stroke:#000000;stroke-linecap:square;stroke-linejoin:miter;stroke-width:0.8;\"/>\n   </g>\n  </g>\n  <g id=\"axes_12\">\n   <g id=\"patch_27\">\n    <path d=\"M 323.437054 214.254229 \nL 371.265625 214.254229 \nL 371.265625 115.417865 \nL 323.437054 115.417865 \nz\n\" style=\"fill:#ffffff;\"/>\n   </g>\n   <g id=\"matplotlib.axis_11\">\n    <g id=\"xtick_11\">\n     <g id=\"line2d_36\">\n      <g>\n       <use style=\"stroke:#000000;stroke-width:0.8;\" x=\"323.437054\" xlink:href=\"#mb330304618\" y=\"214.254229\"/>\n      </g>\n     </g>\n     <g id=\"text_42\">\n      <!-- 0 -->\n      <g transform=\"translate(320.255804 228.852666)scale(0.1 -0.1)\">\n       <use xlink:href=\"#DejaVuSans-48\"/>\n      </g>\n     </g>\n    </g>\n    <g id=\"xtick_12\">\n     <g id=\"line2d_37\">\n      <g>\n       <use style=\"stroke:#000000;stroke-width:0.8;\" x=\"371.265625\" xlink:href=\"#mb330304618\" y=\"214.254229\"/>\n      </g>\n     </g>\n     <g id=\"text_43\">\n      <!-- 1 -->\n      <g transform=\"translate(368.084375 228.852666)scale(0.1 -0.1)\">\n       <use xlink:href=\"#DejaVuSans-49\"/>\n      </g>\n     </g>\n    </g>\n   </g>\n   <g id=\"matplotlib.axis_12\">\n    <g id=\"ytick_26\">\n     <g id=\"line2d_38\">\n      <g>\n       <use style=\"stroke:#000000;stroke-width:0.8;\" x=\"323.437054\" xlink:href=\"#m679887242b\" y=\"214.254229\"/>\n      </g>\n     </g>\n     <g id=\"text_44\">\n      <!-- 0.00 -->\n      <g transform=\"translate(294.171429 218.053448)scale(0.1 -0.1)\">\n       <use xlink:href=\"#DejaVuSans-48\"/>\n       <use x=\"63.623047\" xlink:href=\"#DejaVuSans-46\"/>\n       <use x=\"95.410156\" xlink:href=\"#DejaVuSans-48\"/>\n       <use x=\"159.033203\" xlink:href=\"#DejaVuSans-48\"/>\n      </g>\n     </g>\n    </g>\n    <g id=\"ytick_27\">\n     <g id=\"line2d_39\">\n      <g>\n       <use style=\"stroke:#000000;stroke-width:0.8;\" x=\"323.437054\" xlink:href=\"#m679887242b\" y=\"189.545138\"/>\n      </g>\n     </g>\n     <g id=\"text_45\">\n      <!-- 0.25 -->\n      <g transform=\"translate(294.171429 193.344357)scale(0.1 -0.1)\">\n       <use xlink:href=\"#DejaVuSans-48\"/>\n       <use x=\"63.623047\" xlink:href=\"#DejaVuSans-46\"/>\n       <use x=\"95.410156\" xlink:href=\"#DejaVuSans-50\"/>\n       <use x=\"159.033203\" xlink:href=\"#DejaVuSans-53\"/>\n      </g>\n     </g>\n    </g>\n    <g id=\"ytick_28\">\n     <g id=\"line2d_40\">\n      <g>\n       <use style=\"stroke:#000000;stroke-width:0.8;\" x=\"323.437054\" xlink:href=\"#m679887242b\" y=\"164.836047\"/>\n      </g>\n     </g>\n     <g id=\"text_46\">\n      <!-- 0.50 -->\n      <g transform=\"translate(294.171429 168.635266)scale(0.1 -0.1)\">\n       <use xlink:href=\"#DejaVuSans-48\"/>\n       <use x=\"63.623047\" xlink:href=\"#DejaVuSans-46\"/>\n       <use x=\"95.410156\" xlink:href=\"#DejaVuSans-53\"/>\n       <use x=\"159.033203\" xlink:href=\"#DejaVuSans-48\"/>\n      </g>\n     </g>\n    </g>\n    <g id=\"ytick_29\">\n     <g id=\"line2d_41\">\n      <g>\n       <use style=\"stroke:#000000;stroke-width:0.8;\" x=\"323.437054\" xlink:href=\"#m679887242b\" y=\"140.126956\"/>\n      </g>\n     </g>\n     <g id=\"text_47\">\n      <!-- 0.75 -->\n      <g transform=\"translate(294.171429 143.926175)scale(0.1 -0.1)\">\n       <use xlink:href=\"#DejaVuSans-48\"/>\n       <use x=\"63.623047\" xlink:href=\"#DejaVuSans-46\"/>\n       <use x=\"95.410156\" xlink:href=\"#DejaVuSans-55\"/>\n       <use x=\"159.033203\" xlink:href=\"#DejaVuSans-53\"/>\n      </g>\n     </g>\n    </g>\n    <g id=\"ytick_30\">\n     <g id=\"line2d_42\">\n      <g>\n       <use style=\"stroke:#000000;stroke-width:0.8;\" x=\"323.437054\" xlink:href=\"#m679887242b\" y=\"115.417865\"/>\n      </g>\n     </g>\n     <g id=\"text_48\">\n      <!-- 1.00 -->\n      <g transform=\"translate(294.171429 119.217084)scale(0.1 -0.1)\">\n       <use xlink:href=\"#DejaVuSans-49\"/>\n       <use x=\"63.623047\" xlink:href=\"#DejaVuSans-46\"/>\n       <use x=\"95.410156\" xlink:href=\"#DejaVuSans-48\"/>\n       <use x=\"159.033203\" xlink:href=\"#DejaVuSans-48\"/>\n      </g>\n     </g>\n    </g>\n   </g>\n   <g id=\"patch_28\">\n    <path d=\"M 323.437054 214.254229 \nL 323.437054 115.417865 \n\" style=\"fill:none;stroke:#000000;stroke-linecap:square;stroke-linejoin:miter;stroke-width:0.8;\"/>\n   </g>\n   <g id=\"patch_29\">\n    <path d=\"M 371.265625 214.254229 \nL 371.265625 115.417865 \n\" style=\"fill:none;stroke:#000000;stroke-linecap:square;stroke-linejoin:miter;stroke-width:0.8;\"/>\n   </g>\n   <g id=\"patch_30\">\n    <path d=\"M 323.437054 214.254229 \nL 371.265625 214.254229 \n\" style=\"fill:none;stroke:#000000;stroke-linecap:square;stroke-linejoin:miter;stroke-width:0.8;\"/>\n   </g>\n   <g id=\"patch_31\">\n    <path d=\"M 323.437054 115.417865 \nL 371.265625 115.417865 \n\" style=\"fill:none;stroke:#000000;stroke-linecap:square;stroke-linejoin:miter;stroke-width:0.8;\"/>\n   </g>\n  </g>\n </g>\n <defs>\n  <clipPath id=\"pf4d3ca02eb\">\n   <rect height=\"47.828571\" width=\"47.828571\" x=\"36.465625\" y=\"22.318125\"/>\n  </clipPath>\n  <clipPath id=\"p35b8541487\">\n   <rect height=\"47.828571\" width=\"47.828571\" x=\"93.859911\" y=\"22.318125\"/>\n  </clipPath>\n  <clipPath id=\"p2c5c4ca67d\">\n   <rect height=\"47.828571\" width=\"47.828571\" x=\"151.254196\" y=\"22.318125\"/>\n  </clipPath>\n  <clipPath id=\"pbc6c5b5ab7\">\n   <rect height=\"47.828571\" width=\"47.828571\" x=\"208.648482\" y=\"22.318125\"/>\n  </clipPath>\n  <clipPath id=\"pf061e05d82\">\n   <rect height=\"47.828571\" width=\"47.828571\" x=\"266.042768\" y=\"22.318125\"/>\n  </clipPath>\n  <clipPath id=\"peadb2d8679\">\n   <rect height=\"47.828571\" width=\"47.828571\" x=\"323.437054\" y=\"22.318125\"/>\n  </clipPath>\n </defs>\n</svg>\n",
      "image/png": "[encoded data removed]"
     },
     "metadata": {
      "needs_background": "light"
     }
    }
   ],
   "source": [
    "_, axes = plt.subplots(2, 6)\n",
    "images_and_labels = list(zip(test_images, test_labels))\n",
    "for ax, (image, label) in zip(axes[0, :], images_and_labels[:6]):\n",
    "    ax.set_axis_off()\n",
    "    ax.imshow(image, cmap=plt.cm.gray_r, interpolation='nearest')\n",
    "    ax.set_title('Test: %i' % label)"
   ]
  },
  {
   "cell_type": "code",
   "execution_count": 150,
   "metadata": {},
   "outputs": [
    {
     "output_type": "stream",
     "name": "stdout",
     "text": [
      "Instance from the mnist.test_images() on row 8488\nExpected: 1\nPredicted: 1\n"
     ]
    },
    {
     "output_type": "display_data",
     "data": {
      "text/plain": "<Figure size 432x288 with 1 Axes>",
      "image/svg+xml": "<?xml version=\"1.0\" encoding=\"utf-8\" standalone=\"no\"?>\n<!DOCTYPE svg PUBLIC \"-//W3C//DTD SVG 1.1//EN\"\n  \"http://www.w3.org/Graphics/SVG/1.1/DTD/svg11.dtd\">\n<!-- Created with matplotlib (https://matplotlib.org/) -->\n<svg height=\"248.518125pt\" version=\"1.1\" viewBox=\"0 0 251.565 248.518125\" width=\"251.565pt\" xmlns=\"http://www.w3.org/2000/svg\" xmlns:xlink=\"http://www.w3.org/1999/xlink\">\n <defs>\n  <style type=\"text/css\">\n*{stroke-linecap:butt;stroke-linejoin:round;}\n  </style>\n </defs>\n <g id=\"figure_1\">\n  <g id=\"patch_1\">\n   <path d=\"M 0 248.518125 \nL 251.565 248.518125 \nL 251.565 0 \nL 0 0 \nz\n\" style=\"fill:none;\"/>\n  </g>\n  <g id=\"axes_1\">\n   <g id=\"patch_2\">\n    <path d=\"M 26.925 224.64 \nL 244.365 224.64 \nL 244.365 7.2 \nL 26.925 7.2 \nz\n\" style=\"fill:#ffffff;\"/>\n   </g>\n   <g clip-path=\"url(#pdbb6b7877d)\">\n    <image height=\"218\" id=\"imagea845c0a1ff\" transform=\"scale(1 -1)translate(0 -218)\" width=\"218\" x=\"26.925\" xlink:href=\"data:image/png;base64,\niVBORw0KGgoAAAANSUhEUgAAANoAAADaCAYAAADAHVzbAAAABHNCSVQICAgIfAhkiAAABNJJREFUeJzt3TFLHGsAheF4uSEEBQMJaKcI2ohY2EkaEdKKhQFBxH+gtiIWYiv4J9JKEkglVmqRUrBQ0ygIIthpIWn21sHMl8TdOXuNz9Medmealw92GO1oNBqNZ0Ct/mn3DcBTIDQIEBoECA0ChAYBQoMAoUGA0CBAaBAgNAgQGgQIDQKEBgFCgwChQYDQIEBoECA0CBAaBAgNAoQGAUKDAKFBgNAgQGgQIDQIEBoECA0ChAYBQoOAf9t9A4/V/v5+cd/c3KzcPn36VPzs0NBQcV9ZWSnu8/PzxZ08JxoECA0ChAYBQoMAoUGA0CBAaBDQ0Wg0Gu2+icdobW2tuG9sbNR27b6+vuK+u7tb3AcGBlp5O/wGJxoECA0ChAYBQoMAoUGA0CBAaBDgfbRH6Pz8vLh//fq1uHuOludEgwChQYDQIEBoECA0CBAaBAgNAjxHe4Q6OzuL++vXr0N3wu9yokGA0CBAaBAgNAgQGgQIDQL8vP9Ar169Ku4dHR2VW7N/4a+/v7+4j4+PN/X9tJ4TDQKEBgFCgwChQYDQIEBoECA0CPBvm2rS3d1dud3c3NR67Q8fPhT32dnZWq/PfU40CBAaBAgNAoQGAUKDAKFBgNAgwPtoNVlfX6/clpeXa732zs5OcfccLc+JBgFCgwChQYDQIEBoECA0CBAaBHiO9hf6+PFjcV9cXKzcRkdHW307PHOiQYTQIEBoECA0CBAaBAgNAvy5uZrc3t5WboODg8XPXl1dtfp2ftDT01O5XV5e1nrtp8qJBgFCgwChQYDQIEBoECA0CBAaBHhNpiZdXV2V28TERPGzX758Ke7N/tunhYWFpj7Pn3OiQYDQIEBoECA0CBAaBAgNAoQGAd5Ha4Ojo6PiPjMzU9xPTk6auv7IyEjldnh42NR383NONAgQGgQIDQKEBgFCgwChQYDQIMD7aG3w/v374t7sc7JfGRsbq/X7uc+JBgFCgwChQYDQIEBoECA0CBAaBHiO1garq6vFfW5urtbrX1xc1Pr93OdEgwChQYDQIEBoECA0CBAaBPh5vw2Gh4eLe09PT3G/urpq6vp7e3tNfZ4/50SDAKFBgNAgQGgQIDQIEBoECA0CPEdrg9HR0eLe29tb3Jt9jkaeEw0ChAYBQoMAoUGA0CBAaBAgNAjwHK0NPn/+XNyPj49rvf73798rt62treJnl5aWWn07T4ITDQKEBgFCgwChQYDQIEBoECA0COhoNBqNdt/EU3N9fV3c3759W9xPT09beTs/GB8fL+67u7vF/cWLF628nb+GEw0ChAYBQoMAoUGA0CBAaBAgNAjwPlobvHnzpri/fPkydCf3TU5OFnfPyR7GiQYBQoMAoUGA0CBAaBAgNAjw8/7/0MzMTHE/PDxs6vufP39euU1NTTX13fycEw0ChAYBQoMAoUGA0CBAaBAgNAjw5+Yq3N3dFfeDg4Pi/qvXTUrOzs6K+7t374r7t2/fivv09HTltr29XfwsD+NEgwChQYDQIEBoECA0CBAaBAgNAjxHgwAnGgQIDQKEBgFCgwChQYDQIEBoECA0CBAaBAgNAoQGAUKDAKFBgNAgQGgQIDQIEBoECA0ChAYBQoMAoUGA0CBAaBAgNAgQGgQIDQKEBgFCgwChQYDQIOA/29aehnoTCrgAAAAASUVORK5CYII=\" y=\"-6.64\"/>\n   </g>\n   <g id=\"matplotlib.axis_1\">\n    <g id=\"xtick_1\">\n     <g id=\"line2d_1\">\n      <defs>\n       <path d=\"M 0 0 \nL 0 3.5 \n\" id=\"m4b55776e48\" style=\"stroke:#000000;stroke-width:0.8;\"/>\n      </defs>\n      <g>\n       <use style=\"stroke:#000000;stroke-width:0.8;\" x=\"30.807857\" xlink:href=\"#m4b55776e48\" y=\"224.64\"/>\n      </g>\n     </g>\n     <g id=\"text_1\">\n      <!-- 0 -->\n      <defs>\n       <path d=\"M 31.78125 66.40625 \nQ 24.171875 66.40625 20.328125 58.90625 \nQ 16.5 51.421875 16.5 36.375 \nQ 16.5 21.390625 20.328125 13.890625 \nQ 24.171875 6.390625 31.78125 6.390625 \nQ 39.453125 6.390625 43.28125 13.890625 \nQ 47.125 21.390625 47.125 36.375 \nQ 47.125 51.421875 43.28125 58.90625 \nQ 39.453125 66.40625 31.78125 66.40625 \nz\nM 31.78125 74.21875 \nQ 44.046875 74.21875 50.515625 64.515625 \nQ 56.984375 54.828125 56.984375 36.375 \nQ 56.984375 17.96875 50.515625 8.265625 \nQ 44.046875 -1.421875 31.78125 -1.421875 \nQ 19.53125 -1.421875 13.0625 8.265625 \nQ 6.59375 17.96875 6.59375 36.375 \nQ 6.59375 54.828125 13.0625 64.515625 \nQ 19.53125 74.21875 31.78125 74.21875 \nz\n\" id=\"DejaVuSans-48\"/>\n      </defs>\n      <g transform=\"translate(27.626607 239.238437)scale(0.1 -0.1)\">\n       <use xlink:href=\"#DejaVuSans-48\"/>\n      </g>\n     </g>\n    </g>\n    <g id=\"xtick_2\">\n     <g id=\"line2d_2\">\n      <g>\n       <use style=\"stroke:#000000;stroke-width:0.8;\" x=\"69.636429\" xlink:href=\"#m4b55776e48\" y=\"224.64\"/>\n      </g>\n     </g>\n     <g id=\"text_2\">\n      <!-- 5 -->\n      <defs>\n       <path d=\"M 10.796875 72.90625 \nL 49.515625 72.90625 \nL 49.515625 64.59375 \nL 19.828125 64.59375 \nL 19.828125 46.734375 \nQ 21.96875 47.46875 24.109375 47.828125 \nQ 26.265625 48.1875 28.421875 48.1875 \nQ 40.625 48.1875 47.75 41.5 \nQ 54.890625 34.8125 54.890625 23.390625 \nQ 54.890625 11.625 47.5625 5.09375 \nQ 40.234375 -1.421875 26.90625 -1.421875 \nQ 22.3125 -1.421875 17.546875 -0.640625 \nQ 12.796875 0.140625 7.71875 1.703125 \nL 7.71875 11.625 \nQ 12.109375 9.234375 16.796875 8.0625 \nQ 21.484375 6.890625 26.703125 6.890625 \nQ 35.15625 6.890625 40.078125 11.328125 \nQ 45.015625 15.765625 45.015625 23.390625 \nQ 45.015625 31 40.078125 35.4375 \nQ 35.15625 39.890625 26.703125 39.890625 \nQ 22.75 39.890625 18.8125 39.015625 \nQ 14.890625 38.140625 10.796875 36.28125 \nz\n\" id=\"DejaVuSans-53\"/>\n      </defs>\n      <g transform=\"translate(66.455179 239.238437)scale(0.1 -0.1)\">\n       <use xlink:href=\"#DejaVuSans-53\"/>\n      </g>\n     </g>\n    </g>\n    <g id=\"xtick_3\">\n     <g id=\"line2d_3\">\n      <g>\n       <use style=\"stroke:#000000;stroke-width:0.8;\" x=\"108.465\" xlink:href=\"#m4b55776e48\" y=\"224.64\"/>\n      </g>\n     </g>\n     <g id=\"text_3\">\n      <!-- 10 -->\n      <defs>\n       <path d=\"M 12.40625 8.296875 \nL 28.515625 8.296875 \nL 28.515625 63.921875 \nL 10.984375 60.40625 \nL 10.984375 69.390625 \nL 28.421875 72.90625 \nL 38.28125 72.90625 \nL 38.28125 8.296875 \nL 54.390625 8.296875 \nL 54.390625 0 \nL 12.40625 0 \nz\n\" id=\"DejaVuSans-49\"/>\n      </defs>\n      <g transform=\"translate(102.1025 239.238437)scale(0.1 -0.1)\">\n       <use xlink:href=\"#DejaVuSans-49\"/>\n       <use x=\"63.623047\" xlink:href=\"#DejaVuSans-48\"/>\n      </g>\n     </g>\n    </g>\n    <g id=\"xtick_4\">\n     <g id=\"line2d_4\">\n      <g>\n       <use style=\"stroke:#000000;stroke-width:0.8;\" x=\"147.293571\" xlink:href=\"#m4b55776e48\" y=\"224.64\"/>\n      </g>\n     </g>\n     <g id=\"text_4\">\n      <!-- 15 -->\n      <g transform=\"translate(140.931071 239.238437)scale(0.1 -0.1)\">\n       <use xlink:href=\"#DejaVuSans-49\"/>\n       <use x=\"63.623047\" xlink:href=\"#DejaVuSans-53\"/>\n      </g>\n     </g>\n    </g>\n    <g id=\"xtick_5\">\n     <g id=\"line2d_5\">\n      <g>\n       <use style=\"stroke:#000000;stroke-width:0.8;\" x=\"186.122143\" xlink:href=\"#m4b55776e48\" y=\"224.64\"/>\n      </g>\n     </g>\n     <g id=\"text_5\">\n      <!-- 20 -->\n      <defs>\n       <path d=\"M 19.1875 8.296875 \nL 53.609375 8.296875 \nL 53.609375 0 \nL 7.328125 0 \nL 7.328125 8.296875 \nQ 12.9375 14.109375 22.625 23.890625 \nQ 32.328125 33.6875 34.8125 36.53125 \nQ 39.546875 41.84375 41.421875 45.53125 \nQ 43.3125 49.21875 43.3125 52.78125 \nQ 43.3125 58.59375 39.234375 62.25 \nQ 35.15625 65.921875 28.609375 65.921875 \nQ 23.96875 65.921875 18.8125 64.3125 \nQ 13.671875 62.703125 7.8125 59.421875 \nL 7.8125 69.390625 \nQ 13.765625 71.78125 18.9375 73 \nQ 24.125 74.21875 28.421875 74.21875 \nQ 39.75 74.21875 46.484375 68.546875 \nQ 53.21875 62.890625 53.21875 53.421875 \nQ 53.21875 48.921875 51.53125 44.890625 \nQ 49.859375 40.875 45.40625 35.40625 \nQ 44.1875 33.984375 37.640625 27.21875 \nQ 31.109375 20.453125 19.1875 8.296875 \nz\n\" id=\"DejaVuSans-50\"/>\n      </defs>\n      <g transform=\"translate(179.759643 239.238437)scale(0.1 -0.1)\">\n       <use xlink:href=\"#DejaVuSans-50\"/>\n       <use x=\"63.623047\" xlink:href=\"#DejaVuSans-48\"/>\n      </g>\n     </g>\n    </g>\n    <g id=\"xtick_6\">\n     <g id=\"line2d_6\">\n      <g>\n       <use style=\"stroke:#000000;stroke-width:0.8;\" x=\"224.950714\" xlink:href=\"#m4b55776e48\" y=\"224.64\"/>\n      </g>\n     </g>\n     <g id=\"text_6\">\n      <!-- 25 -->\n      <g transform=\"translate(218.588214 239.238437)scale(0.1 -0.1)\">\n       <use xlink:href=\"#DejaVuSans-50\"/>\n       <use x=\"63.623047\" xlink:href=\"#DejaVuSans-53\"/>\n      </g>\n     </g>\n    </g>\n   </g>\n   <g id=\"matplotlib.axis_2\">\n    <g id=\"ytick_1\">\n     <g id=\"line2d_7\">\n      <defs>\n       <path d=\"M 0 0 \nL -3.5 0 \n\" id=\"m3e32e9c691\" style=\"stroke:#000000;stroke-width:0.8;\"/>\n      </defs>\n      <g>\n       <use style=\"stroke:#000000;stroke-width:0.8;\" x=\"26.925\" xlink:href=\"#m3e32e9c691\" y=\"11.082857\"/>\n      </g>\n     </g>\n     <g id=\"text_7\">\n      <!-- 0 -->\n      <g transform=\"translate(13.5625 14.882076)scale(0.1 -0.1)\">\n       <use xlink:href=\"#DejaVuSans-48\"/>\n      </g>\n     </g>\n    </g>\n    <g id=\"ytick_2\">\n     <g id=\"line2d_8\">\n      <g>\n       <use style=\"stroke:#000000;stroke-width:0.8;\" x=\"26.925\" xlink:href=\"#m3e32e9c691\" y=\"49.911429\"/>\n      </g>\n     </g>\n     <g id=\"text_8\">\n      <!-- 5 -->\n      <g transform=\"translate(13.5625 53.710647)scale(0.1 -0.1)\">\n       <use xlink:href=\"#DejaVuSans-53\"/>\n      </g>\n     </g>\n    </g>\n    <g id=\"ytick_3\">\n     <g id=\"line2d_9\">\n      <g>\n       <use style=\"stroke:#000000;stroke-width:0.8;\" x=\"26.925\" xlink:href=\"#m3e32e9c691\" y=\"88.74\"/>\n      </g>\n     </g>\n     <g id=\"text_9\">\n      <!-- 10 -->\n      <g transform=\"translate(7.2 92.539219)scale(0.1 -0.1)\">\n       <use xlink:href=\"#DejaVuSans-49\"/>\n       <use x=\"63.623047\" xlink:href=\"#DejaVuSans-48\"/>\n      </g>\n     </g>\n    </g>\n    <g id=\"ytick_4\">\n     <g id=\"line2d_10\">\n      <g>\n       <use style=\"stroke:#000000;stroke-width:0.8;\" x=\"26.925\" xlink:href=\"#m3e32e9c691\" y=\"127.568571\"/>\n      </g>\n     </g>\n     <g id=\"text_10\">\n      <!-- 15 -->\n      <g transform=\"translate(7.2 131.36779)scale(0.1 -0.1)\">\n       <use xlink:href=\"#DejaVuSans-49\"/>\n       <use x=\"63.623047\" xlink:href=\"#DejaVuSans-53\"/>\n      </g>\n     </g>\n    </g>\n    <g id=\"ytick_5\">\n     <g id=\"line2d_11\">\n      <g>\n       <use style=\"stroke:#000000;stroke-width:0.8;\" x=\"26.925\" xlink:href=\"#m3e32e9c691\" y=\"166.397143\"/>\n      </g>\n     </g>\n     <g id=\"text_11\">\n      <!-- 20 -->\n      <g transform=\"translate(7.2 170.196362)scale(0.1 -0.1)\">\n       <use xlink:href=\"#DejaVuSans-50\"/>\n       <use x=\"63.623047\" xlink:href=\"#DejaVuSans-48\"/>\n      </g>\n     </g>\n    </g>\n    <g id=\"ytick_6\">\n     <g id=\"line2d_12\">\n      <g>\n       <use style=\"stroke:#000000;stroke-width:0.8;\" x=\"26.925\" xlink:href=\"#m3e32e9c691\" y=\"205.225714\"/>\n      </g>\n     </g>\n     <g id=\"text_12\">\n      <!-- 25 -->\n      <g transform=\"translate(7.2 209.024933)scale(0.1 -0.1)\">\n       <use xlink:href=\"#DejaVuSans-50\"/>\n       <use x=\"63.623047\" xlink:href=\"#DejaVuSans-53\"/>\n      </g>\n     </g>\n    </g>\n   </g>\n   <g id=\"patch_3\">\n    <path d=\"M 26.925 224.64 \nL 26.925 7.2 \n\" style=\"fill:none;stroke:#000000;stroke-linecap:square;stroke-linejoin:miter;stroke-width:0.8;\"/>\n   </g>\n   <g id=\"patch_4\">\n    <path d=\"M 244.365 224.64 \nL 244.365 7.2 \n\" style=\"fill:none;stroke:#000000;stroke-linecap:square;stroke-linejoin:miter;stroke-width:0.8;\"/>\n   </g>\n   <g id=\"patch_5\">\n    <path d=\"M 26.925 224.64 \nL 244.365 224.64 \n\" style=\"fill:none;stroke:#000000;stroke-linecap:square;stroke-linejoin:miter;stroke-width:0.8;\"/>\n   </g>\n   <g id=\"patch_6\">\n    <path d=\"M 26.925 7.2 \nL 244.365 7.2 \n\" style=\"fill:none;stroke:#000000;stroke-linecap:square;stroke-linejoin:miter;stroke-width:0.8;\"/>\n   </g>\n  </g>\n </g>\n <defs>\n  <clipPath id=\"pdbb6b7877d\">\n   <rect height=\"217.44\" width=\"217.44\" x=\"26.925\" y=\"7.2\"/>\n  </clipPath>\n </defs>\n</svg>\n",
      "image/png": "[encoded data removed]"
     },
     "metadata": {
      "needs_background": "light"
     }
    }
   ],
   "source": [
    "n = random.randint(0,full_test.shape[0])\n",
    "test_image = test_images[n]\n",
    "\n",
    "flatten_test = test_image.reshape(1, -1)/255 # Do not forget to normalize !\n",
    "predicted = classifier_new_test.predict(flatten_test)\n",
    "\n",
    "plt.imshow(test_image, cmap=plt.cm.gray_r, interpolation='nearest')\n",
    "print('Instance from the mnist.test_images() on row %i' %n)\n",
    "print('Expected: %i' % test_labels[n])\n",
    "print('Predicted: %i' % predicted)"
   ]
  },
  {
   "source": [
    "## Model metrics"
   ],
   "cell_type": "markdown",
   "metadata": {}
  },
  {
   "cell_type": "code",
   "execution_count": 123,
   "metadata": {},
   "outputs": [],
   "source": [
    "predicted_all = classifier_new_test.predict(X_test)"
   ]
  },
  {
   "cell_type": "code",
   "execution_count": 131,
   "metadata": {},
   "outputs": [
    {
     "output_type": "execute_result",
     "data": {
      "text/plain": [
       "(10000,)"
      ]
     },
     "metadata": {},
     "execution_count": 131
    }
   ],
   "source": [
    "predicted_all.shape"
   ]
  },
  {
   "cell_type": "code",
   "execution_count": 146,
   "metadata": {},
   "outputs": [
    {
     "output_type": "execute_result",
     "data": {
      "text/plain": [
       "1"
      ]
     },
     "metadata": {},
     "execution_count": 146
    }
   ],
   "source": [
    "predicted_all[2968]"
   ]
  },
  {
   "cell_type": "code",
   "execution_count": null,
   "metadata": {},
   "outputs": [],
   "source": [
    "y_test[2968]"
   ]
  },
  {
   "cell_type": "code",
   "execution_count": 132,
   "metadata": {},
   "outputs": [
    {
     "output_type": "execute_result",
     "data": {
      "text/plain": [
       "(10000,)"
      ]
     },
     "metadata": {},
     "execution_count": 132
    }
   ],
   "source": [
    "y_test.shape"
   ]
  },
  {
   "cell_type": "code",
   "execution_count": 130,
   "metadata": {},
   "outputs": [
    {
     "output_type": "error",
     "ename": "ValueError",
     "evalue": "Found input variables with inconsistent numbers of samples: [10000, 1]",
     "traceback": [
      "\u001b[0;31m---------------------------------------------------------------------------\u001b[0m",
      "\u001b[0;31mValueError\u001b[0m                                Traceback (most recent call last)",
      "\u001b[0;32m<ipython-input-130-35b27afc1546>\u001b[0m in \u001b[0;36m<module>\u001b[0;34m\u001b[0m\n\u001b[1;32m      1\u001b[0m print(\"Classification report for classifier %s:\\n%s\\n\"\n\u001b[0;32m----> 2\u001b[0;31m       % (classifier_new_test, metrics.classification_report(y_test, predicted)))\n\u001b[0m",
      "\u001b[0;32m~/opt/anaconda3/lib/python3.7/site-packages/sklearn/metrics/classification.py\u001b[0m in \u001b[0;36mclassification_report\u001b[0;34m(y_true, y_pred, labels, target_names, sample_weight, digits, output_dict)\u001b[0m\n\u001b[1;32m   1850\u001b[0m     \"\"\"\n\u001b[1;32m   1851\u001b[0m \u001b[0;34m\u001b[0m\u001b[0m\n\u001b[0;32m-> 1852\u001b[0;31m     \u001b[0my_type\u001b[0m\u001b[0;34m,\u001b[0m \u001b[0my_true\u001b[0m\u001b[0;34m,\u001b[0m \u001b[0my_pred\u001b[0m \u001b[0;34m=\u001b[0m \u001b[0m_check_targets\u001b[0m\u001b[0;34m(\u001b[0m\u001b[0my_true\u001b[0m\u001b[0;34m,\u001b[0m \u001b[0my_pred\u001b[0m\u001b[0;34m)\u001b[0m\u001b[0;34m\u001b[0m\u001b[0;34m\u001b[0m\u001b[0m\n\u001b[0m\u001b[1;32m   1853\u001b[0m \u001b[0;34m\u001b[0m\u001b[0m\n\u001b[1;32m   1854\u001b[0m     \u001b[0mlabels_given\u001b[0m \u001b[0;34m=\u001b[0m \u001b[0;32mTrue\u001b[0m\u001b[0;34m\u001b[0m\u001b[0;34m\u001b[0m\u001b[0m\n",
      "\u001b[0;32m~/opt/anaconda3/lib/python3.7/site-packages/sklearn/metrics/classification.py\u001b[0m in \u001b[0;36m_check_targets\u001b[0;34m(y_true, y_pred)\u001b[0m\n\u001b[1;32m     69\u001b[0m     \u001b[0my_pred\u001b[0m \u001b[0;34m:\u001b[0m \u001b[0marray\u001b[0m \u001b[0;32mor\u001b[0m \u001b[0mindicator\u001b[0m \u001b[0mmatrix\u001b[0m\u001b[0;34m\u001b[0m\u001b[0;34m\u001b[0m\u001b[0m\n\u001b[1;32m     70\u001b[0m     \"\"\"\n\u001b[0;32m---> 71\u001b[0;31m     \u001b[0mcheck_consistent_length\u001b[0m\u001b[0;34m(\u001b[0m\u001b[0my_true\u001b[0m\u001b[0;34m,\u001b[0m \u001b[0my_pred\u001b[0m\u001b[0;34m)\u001b[0m\u001b[0;34m\u001b[0m\u001b[0;34m\u001b[0m\u001b[0m\n\u001b[0m\u001b[1;32m     72\u001b[0m     \u001b[0mtype_true\u001b[0m \u001b[0;34m=\u001b[0m \u001b[0mtype_of_target\u001b[0m\u001b[0;34m(\u001b[0m\u001b[0my_true\u001b[0m\u001b[0;34m)\u001b[0m\u001b[0;34m\u001b[0m\u001b[0;34m\u001b[0m\u001b[0m\n\u001b[1;32m     73\u001b[0m     \u001b[0mtype_pred\u001b[0m \u001b[0;34m=\u001b[0m \u001b[0mtype_of_target\u001b[0m\u001b[0;34m(\u001b[0m\u001b[0my_pred\u001b[0m\u001b[0;34m)\u001b[0m\u001b[0;34m\u001b[0m\u001b[0;34m\u001b[0m\u001b[0m\n",
      "\u001b[0;32m~/opt/anaconda3/lib/python3.7/site-packages/sklearn/utils/validation.py\u001b[0m in \u001b[0;36mcheck_consistent_length\u001b[0;34m(*arrays)\u001b[0m\n\u001b[1;32m    203\u001b[0m     \u001b[0;32mif\u001b[0m \u001b[0mlen\u001b[0m\u001b[0;34m(\u001b[0m\u001b[0muniques\u001b[0m\u001b[0;34m)\u001b[0m \u001b[0;34m>\u001b[0m \u001b[0;36m1\u001b[0m\u001b[0;34m:\u001b[0m\u001b[0;34m\u001b[0m\u001b[0;34m\u001b[0m\u001b[0m\n\u001b[1;32m    204\u001b[0m         raise ValueError(\"Found input variables with inconsistent numbers of\"\n\u001b[0;32m--> 205\u001b[0;31m                          \" samples: %r\" % [int(l) for l in lengths])\n\u001b[0m\u001b[1;32m    206\u001b[0m \u001b[0;34m\u001b[0m\u001b[0m\n\u001b[1;32m    207\u001b[0m \u001b[0;34m\u001b[0m\u001b[0m\n",
      "\u001b[0;31mValueError\u001b[0m: Found input variables with inconsistent numbers of samples: [10000, 1]"
     ]
    }
   ],
   "source": [
    "print(\"Classification report for classifier %s:\\n%s\\n\"\n",
    "      % (classifier_new_test, metrics.classification_report(y_test, predicted)))"
   ]
  },
  {
   "cell_type": "code",
   "execution_count": 135,
   "metadata": {},
   "outputs": [
    {
     "output_type": "error",
     "ename": "AttributeError",
     "evalue": "module 'sklearn.metrics' has no attribute 'plot_confusion_matrix'",
     "traceback": [
      "\u001b[0;31m---------------------------------------------------------------------------\u001b[0m",
      "\u001b[0;31mAttributeError\u001b[0m                            Traceback (most recent call last)",
      "\u001b[0;32m<ipython-input-135-2c719515e7ed>\u001b[0m in \u001b[0;36m<module>\u001b[0;34m\u001b[0m\n\u001b[0;32m----> 1\u001b[0;31m \u001b[0mdisp\u001b[0m \u001b[0;34m=\u001b[0m \u001b[0mmetrics\u001b[0m\u001b[0;34m.\u001b[0m\u001b[0mplot_confusion_matrix\u001b[0m\u001b[0;34m(\u001b[0m\u001b[0mclassifier_new_test\u001b[0m\u001b[0;34m,\u001b[0m \u001b[0mX_test\u001b[0m\u001b[0;34m,\u001b[0m \u001b[0my_test\u001b[0m\u001b[0;34m)\u001b[0m\u001b[0;34m\u001b[0m\u001b[0;34m\u001b[0m\u001b[0m\n\u001b[0m\u001b[1;32m      2\u001b[0m \u001b[0mdisp\u001b[0m\u001b[0;34m.\u001b[0m\u001b[0mfigure_\u001b[0m\u001b[0;34m.\u001b[0m\u001b[0msuptitle\u001b[0m\u001b[0;34m(\u001b[0m\u001b[0;34m\"Confusion Matrix\"\u001b[0m\u001b[0;34m)\u001b[0m\u001b[0;34m\u001b[0m\u001b[0;34m\u001b[0m\u001b[0m\n\u001b[1;32m      3\u001b[0m \u001b[0mprint\u001b[0m\u001b[0;34m(\u001b[0m\u001b[0;34m\"Confusion matrix:\\n%s\"\u001b[0m \u001b[0;34m%\u001b[0m \u001b[0mdisp\u001b[0m\u001b[0;34m.\u001b[0m\u001b[0mconfusion_matrix\u001b[0m\u001b[0;34m)\u001b[0m\u001b[0;34m\u001b[0m\u001b[0;34m\u001b[0m\u001b[0m\n\u001b[1;32m      4\u001b[0m \u001b[0mplt\u001b[0m\u001b[0;34m.\u001b[0m\u001b[0mshow\u001b[0m\u001b[0;34m(\u001b[0m\u001b[0;34m)\u001b[0m\u001b[0;34m\u001b[0m\u001b[0;34m\u001b[0m\u001b[0m\n",
      "\u001b[0;31mAttributeError\u001b[0m: module 'sklearn.metrics' has no attribute 'plot_confusion_matrix'"
     ]
    }
   ],
   "source": [
    "disp = metrics.plot_confusion_matrix(classifier_new_test, X_test, y_test)\n",
    "disp.figure_.suptitle(\"Confusion Matrix\")\n",
    "print(\"Confusion matrix:\\n%s\" % disp.confusion_matrix)\n",
    "plt.show()"
   ]
  },
  {
   "cell_type": "code",
   "execution_count": null,
   "metadata": {},
   "outputs": [],
   "source": []
  }
 ]
}